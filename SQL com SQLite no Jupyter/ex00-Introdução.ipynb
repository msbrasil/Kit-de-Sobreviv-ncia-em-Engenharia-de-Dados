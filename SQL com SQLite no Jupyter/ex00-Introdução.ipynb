{
 "cells": [
  {
   "cell_type": "markdown",
   "metadata": {},
   "source": [
    "Introdução"
   ]
  },
  {
   "attachments": {},
   "cell_type": "markdown",
   "metadata": {},
   "source": [
    "O que é SQL?\n",
    "\n",
    "SQL é uma linguagem de consulta estruturada, usada para acessar e manipular bancos de dados relacionais. SQL significa \"Linguagem de Consulta Estruturada\". SQL permite que você acesse e manipule bancos de dados. SQL é uma linguagem de programação padrão para banco de dados, usada para inserir, pesquisar e extrair dados de um banco de dados relacional."
   ]
  },
  {
   "attachments": {},
   "cell_type": "markdown",
   "metadata": {},
   "source": [
    "O que é um banco de dados relacional?\n",
    "\n",
    " Um banco de dados relacional é um banco de dados que armazena dados em tabelas relacionadas. Cada tabela contém uma coleção de dados relacionados. Cada tabela contém colunas e linhas. Cada coluna contém informações sobre um determinado aspecto de cada registro. Cada linha (também chamada de registro) contém um conjunto de informações relacionadas sobre um único objeto, como um cliente ou um produto."
   ]
  },
  {
   "attachments": {},
   "cell_type": "markdown",
   "metadata": {},
   "source": [
    "Para trabalhar com SQL no Jupyter, precisamos instalar o pacote `ipython-sql` (pip/conda install ipython-sql) e o importar o pacote `sqlite3` (import sqlite3)"
   ]
  },
  {
   "attachments": {},
   "cell_type": "markdown",
   "metadata": {},
   "source": [
    "Vantagens de usar SQL:\n",
    "\n",
    "- Não importa o banco de dados, existirá uma forma de se trabalhar com ele usando SQL\n",
    "- Possui uma sintaxe simples e fácil de aprender (english-like)\n",
    "- Formato padrão de consultar e administrar um banco de dados\n",
    "- Uma linguagem madura (SQL tem 35 anos, aproximadamente)"
   ]
  }
 ],
 "metadata": {
  "kernelspec": {
   "display_name": "curso-kit-eng-dados",
   "language": "python",
   "name": "python3"
  },
  "language_info": {
   "codemirror_mode": {
    "name": "ipython",
    "version": 3
   },
   "file_extension": ".py",
   "mimetype": "text/x-python",
   "name": "python",
   "nbconvert_exporter": "python",
   "pygments_lexer": "ipython3",
   "version": "3.10.8 (main, Nov 24 2022, 14:13:03) [GCC 11.2.0]"
  },
  "orig_nbformat": 4,
  "vscode": {
   "interpreter": {
    "hash": "9488e8ec80d82c89b5cd9d9b19a41b7fd9b9f5b8a7f3d0129a259c8c66cf4d3b"
   }
  }
 },
 "nbformat": 4,
 "nbformat_minor": 2
}
