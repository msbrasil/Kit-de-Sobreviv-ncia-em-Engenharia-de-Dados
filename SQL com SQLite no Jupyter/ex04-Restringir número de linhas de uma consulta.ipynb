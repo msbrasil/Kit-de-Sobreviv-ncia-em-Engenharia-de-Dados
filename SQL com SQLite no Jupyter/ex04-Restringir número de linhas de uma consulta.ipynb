{
 "cells": [
  {
   "cell_type": "markdown",
   "metadata": {},
   "source": [
    "Restringir o número de linhas de uma consulta é útil para prevenir o consumo excessivo de recursos do sistema."
   ]
  },
  {
   "cell_type": "code",
   "execution_count": 2,
   "metadata": {},
   "outputs": [],
   "source": [
    "import sqlite3\n",
    "import pandas as pd"
   ]
  },
  {
   "cell_type": "markdown",
   "metadata": {},
   "source": [
    "Criando uma conexão com o banco de dados"
   ]
  },
  {
   "cell_type": "code",
   "execution_count": 3,
   "metadata": {},
   "outputs": [
    {
     "name": "stdout",
     "output_type": "stream",
     "text": [
      "Conectado ao banco!\n"
     ]
    }
   ],
   "source": [
    "con = sqlite3.connect('companhiaMB') \n",
    "cur = con.cursor() # salva comandos na memória\n",
    "print('Conectado ao banco!')"
   ]
  },
  {
   "cell_type": "markdown",
   "metadata": {},
   "source": [
    "Consultando todos os dados da tabela"
   ]
  },
  {
   "cell_type": "code",
   "execution_count": 4,
   "metadata": {},
   "outputs": [
    {
     "data": {
      "text/html": [
       "<div>\n",
       "<style scoped>\n",
       "    .dataframe tbody tr th:only-of-type {\n",
       "        vertical-align: middle;\n",
       "    }\n",
       "\n",
       "    .dataframe tbody tr th {\n",
       "        vertical-align: top;\n",
       "    }\n",
       "\n",
       "    .dataframe thead th {\n",
       "        text-align: right;\n",
       "    }\n",
       "</style>\n",
       "<table border=\"1\" class=\"dataframe\">\n",
       "  <thead>\n",
       "    <tr style=\"text-align: right;\">\n",
       "      <th></th>\n",
       "      <th>PrimeiroNome</th>\n",
       "      <th>UltimoNome</th>\n",
       "      <th>USERID</th>\n",
       "      <th>Salario</th>\n",
       "      <th>Aluguel</th>\n",
       "    </tr>\n",
       "  </thead>\n",
       "  <tbody>\n",
       "    <tr>\n",
       "      <th>0</th>\n",
       "      <td>Matheus</td>\n",
       "      <td>Brasil</td>\n",
       "      <td>1997</td>\n",
       "      <td>1000.0</td>\n",
       "      <td>650.0</td>\n",
       "    </tr>\n",
       "    <tr>\n",
       "      <th>1</th>\n",
       "      <td>Vitória</td>\n",
       "      <td>Lopes</td>\n",
       "      <td>1998</td>\n",
       "      <td>2000.0</td>\n",
       "      <td>500.0</td>\n",
       "    </tr>\n",
       "  </tbody>\n",
       "</table>\n",
       "</div>"
      ],
      "text/plain": [
       "  PrimeiroNome UltimoNome  USERID  Salario  Aluguel\n",
       "0      Matheus     Brasil    1997   1000.0    650.0\n",
       "1      Vitória      Lopes    1998   2000.0    500.0"
      ]
     },
     "execution_count": 4,
     "metadata": {},
     "output_type": "execute_result"
    }
   ],
   "source": [
    "query = 'SELECT * FROM funcionarios LIMIT 2'\n",
    "\n",
    "df = pd.read_sql_query(query, con)\n",
    "df"
   ]
  }
 ],
 "metadata": {
  "kernelspec": {
   "display_name": "curso-kit-eng-dados",
   "language": "python",
   "name": "python3"
  },
  "language_info": {
   "codemirror_mode": {
    "name": "ipython",
    "version": 3
   },
   "file_extension": ".py",
   "mimetype": "text/x-python",
   "name": "python",
   "nbconvert_exporter": "python",
   "pygments_lexer": "ipython3",
   "version": "3.10.8 (main, Nov 24 2022, 14:13:03) [GCC 11.2.0]"
  },
  "orig_nbformat": 4,
  "vscode": {
   "interpreter": {
    "hash": "9488e8ec80d82c89b5cd9d9b19a41b7fd9b9f5b8a7f3d0129a259c8c66cf4d3b"
   }
  }
 },
 "nbformat": 4,
 "nbformat_minor": 2
}
