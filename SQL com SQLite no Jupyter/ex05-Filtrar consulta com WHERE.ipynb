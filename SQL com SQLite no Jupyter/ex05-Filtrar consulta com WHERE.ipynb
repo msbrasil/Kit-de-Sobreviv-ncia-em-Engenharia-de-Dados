{
 "cells": [
  {
   "attachments": {},
   "cell_type": "markdown",
   "metadata": {},
   "source": [
    "Checar somente linhas que as colunas correspondam a um critério\n",
    "\n",
    "Sintaxe padrão: `SELECT coluna1, coluna2, ... FROM tabela WHERE condição;`"
   ]
  },
  {
   "cell_type": "code",
   "execution_count": 1,
   "metadata": {},
   "outputs": [],
   "source": [
    "import sqlite3\n",
    "import pandas as pd"
   ]
  },
  {
   "cell_type": "markdown",
   "metadata": {},
   "source": [
    "Criando uma conexão com o banco de dados"
   ]
  },
  {
   "cell_type": "code",
   "execution_count": 2,
   "metadata": {},
   "outputs": [
    {
     "name": "stdout",
     "output_type": "stream",
     "text": [
      "Conectado ao banco!\n"
     ]
    }
   ],
   "source": [
    "con = sqlite3.connect('companhiaMB') \n",
    "cur = con.cursor() # salva comandos na memória\n",
    "print('Conectado ao banco!')"
   ]
  },
  {
   "cell_type": "markdown",
   "metadata": {},
   "source": [
    "Chegar o número de linhas "
   ]
  },
  {
   "cell_type": "code",
   "execution_count": 5,
   "metadata": {},
   "outputs": [
    {
     "name": "stdout",
     "output_type": "stream",
     "text": [
      "   n_linhas\n",
      "0         3\n"
     ]
    }
   ],
   "source": [
    "query = 'SELECT COUNT(*) as n_linhas FROM funcionarios'\n",
    "\n",
    "df = pd.read_sql_query(query, con)\n",
    "print(df)"
   ]
  },
  {
   "cell_type": "markdown",
   "metadata": {},
   "source": [
    "Filtrando uma consulta com WHERE"
   ]
  },
  {
   "cell_type": "code",
   "execution_count": 6,
   "metadata": {},
   "outputs": [
    {
     "data": {
      "text/html": [
       "<div>\n",
       "<style scoped>\n",
       "    .dataframe tbody tr th:only-of-type {\n",
       "        vertical-align: middle;\n",
       "    }\n",
       "\n",
       "    .dataframe tbody tr th {\n",
       "        vertical-align: top;\n",
       "    }\n",
       "\n",
       "    .dataframe thead th {\n",
       "        text-align: right;\n",
       "    }\n",
       "</style>\n",
       "<table border=\"1\" class=\"dataframe\">\n",
       "  <thead>\n",
       "    <tr style=\"text-align: right;\">\n",
       "      <th></th>\n",
       "      <th>PrimeiroNome</th>\n",
       "      <th>UltimoNome</th>\n",
       "      <th>USERID</th>\n",
       "      <th>Salario</th>\n",
       "      <th>Aluguel</th>\n",
       "    </tr>\n",
       "  </thead>\n",
       "  <tbody>\n",
       "    <tr>\n",
       "      <th>0</th>\n",
       "      <td>Matheus</td>\n",
       "      <td>Brasil</td>\n",
       "      <td>1997</td>\n",
       "      <td>1000.0</td>\n",
       "      <td>650.0</td>\n",
       "    </tr>\n",
       "    <tr>\n",
       "      <th>1</th>\n",
       "      <td>Vitória</td>\n",
       "      <td>Lopes</td>\n",
       "      <td>1998</td>\n",
       "      <td>2000.0</td>\n",
       "      <td>500.0</td>\n",
       "    </tr>\n",
       "    <tr>\n",
       "      <th>2</th>\n",
       "      <td>Eduardo</td>\n",
       "      <td>Silva</td>\n",
       "      <td>2001</td>\n",
       "      <td>800.0</td>\n",
       "      <td>200.0</td>\n",
       "    </tr>\n",
       "  </tbody>\n",
       "</table>\n",
       "</div>"
      ],
      "text/plain": [
       "  PrimeiroNome UltimoNome  USERID  Salario  Aluguel\n",
       "0      Matheus     Brasil    1997   1000.0    650.0\n",
       "1      Vitória      Lopes    1998   2000.0    500.0\n",
       "2      Eduardo      Silva    2001    800.0    200.0"
      ]
     },
     "execution_count": 6,
     "metadata": {},
     "output_type": "execute_result"
    }
   ],
   "source": [
    "query = 'SELECT * FROM funcionarios'\n",
    "\n",
    "df = pd.read_sql_query(query, con)\n",
    "df"
   ]
  },
  {
   "cell_type": "code",
   "execution_count": 8,
   "metadata": {},
   "outputs": [
    {
     "name": "stdout",
     "output_type": "stream",
     "text": [
      "  PrimeiroNome UltimoNome\n",
      "0      Matheus     Brasil\n",
      "1      Vitória      Lopes\n"
     ]
    }
   ],
   "source": [
    "query = 'SELECT PrimeiroNome, UltimoNome FROM funcionarios WHERE USERID < 2000'\n",
    "\n",
    "df = pd.read_sql_query(query, con)\n",
    "print(df)"
   ]
  },
  {
   "cell_type": "markdown",
   "metadata": {},
   "source": [
    "Usar AND para usar duas condições"
   ]
  },
  {
   "cell_type": "code",
   "execution_count": 10,
   "metadata": {},
   "outputs": [
    {
     "name": "stdout",
     "output_type": "stream",
     "text": [
      "  PrimeiroNome UltimoNome\n",
      "0      Matheus     Brasil\n"
     ]
    }
   ],
   "source": [
    "query = 'SELECT PrimeiroNome, UltimoNome FROM funcionarios WHERE USERID < 2000 AND Aluguel > 500'\n",
    "\n",
    "df = pd.read_sql_query(query, con)\n",
    "print(df)"
   ]
  },
  {
   "cell_type": "markdown",
   "metadata": {},
   "source": [
    "Usar OR para que a consulta encontre pelo menos um dos critérios"
   ]
  },
  {
   "cell_type": "code",
   "execution_count": 13,
   "metadata": {},
   "outputs": [
    {
     "name": "stdout",
     "output_type": "stream",
     "text": [
      "  PrimeiroNome UltimoNome\n",
      "0      Matheus     Brasil\n",
      "1      Vitória      Lopes\n"
     ]
    }
   ],
   "source": [
    "query = 'SELECT PrimeiroNome, UltimoNome FROM funcionarios WHERE Salario > 1000 OR Aluguel > 500'\n",
    "\n",
    "df = pd.read_sql_query(query, con)\n",
    "print(df)"
   ]
  },
  {
   "cell_type": "code",
   "execution_count": 14,
   "metadata": {},
   "outputs": [],
   "source": [
    "con.close()"
   ]
  },
  {
   "cell_type": "markdown",
   "metadata": {},
   "source": [
    "Para mostrar outros exemplos,troquei a conexão para um banco de dados maior"
   ]
  },
  {
   "cell_type": "code",
   "execution_count": 16,
   "metadata": {},
   "outputs": [],
   "source": [
    "con = sqlite3.connect('../primeiro_banco')"
   ]
  },
  {
   "cell_type": "code",
   "execution_count": 18,
   "metadata": {},
   "outputs": [
    {
     "name": "stdout",
     "output_type": "stream",
     "text": [
      "    type       name   tbl_name  rootpage  \\\n",
      "0  table      Teste      Teste         2   \n",
      "1  table  Customers  Customers         3   \n",
      "\n",
      "                                                 sql  \n",
      "0  CREATE TABLE Teste (\\n        id integer,\\n   ...  \n",
      "1  CREATE TABLE Customers (\\n        CustomerKey ...  \n"
     ]
    }
   ],
   "source": [
    "query = 'SELECT * FROM sqlite_master'\n",
    "\n",
    "df = pd.read_sql_query(query, con)\n",
    "print(df)"
   ]
  },
  {
   "cell_type": "code",
   "execution_count": 28,
   "metadata": {},
   "outputs": [
    {
     "data": {
      "text/html": [
       "<div>\n",
       "<style scoped>\n",
       "    .dataframe tbody tr th:only-of-type {\n",
       "        vertical-align: middle;\n",
       "    }\n",
       "\n",
       "    .dataframe tbody tr th {\n",
       "        vertical-align: top;\n",
       "    }\n",
       "\n",
       "    .dataframe thead th {\n",
       "        text-align: right;\n",
       "    }\n",
       "</style>\n",
       "<table border=\"1\" class=\"dataframe\">\n",
       "  <thead>\n",
       "    <tr style=\"text-align: right;\">\n",
       "      <th></th>\n",
       "      <th>CustomerKey</th>\n",
       "      <th>FirstName</th>\n",
       "      <th>LastName</th>\n",
       "      <th>BirthDate</th>\n",
       "      <th>MaritalStatus</th>\n",
       "      <th>Gender</th>\n",
       "      <th>EmailAddress</th>\n",
       "      <th>AnnualIncome</th>\n",
       "      <th>TotalChildren</th>\n",
       "      <th>EducationLevel</th>\n",
       "      <th>Occupation</th>\n",
       "      <th>HomeOwner</th>\n",
       "    </tr>\n",
       "  </thead>\n",
       "  <tbody>\n",
       "    <tr>\n",
       "      <th>0</th>\n",
       "      <td>11000</td>\n",
       "      <td>JON</td>\n",
       "      <td>YANG</td>\n",
       "      <td>4/8/1966</td>\n",
       "      <td>M</td>\n",
       "      <td>M</td>\n",
       "      <td>jon24@adventure-works.com</td>\n",
       "      <td>$90,000</td>\n",
       "      <td>2</td>\n",
       "      <td>Bachelors</td>\n",
       "      <td>Professional</td>\n",
       "      <td>Y</td>\n",
       "    </tr>\n",
       "  </tbody>\n",
       "</table>\n",
       "</div>"
      ],
      "text/plain": [
       "   CustomerKey FirstName LastName BirthDate MaritalStatus Gender  \\\n",
       "0        11000       JON     YANG  4/8/1966             M      M   \n",
       "\n",
       "                EmailAddress AnnualIncome  TotalChildren EducationLevel  \\\n",
       "0  jon24@adventure-works.com     $90,000               2      Bachelors   \n",
       "\n",
       "     Occupation HomeOwner  \n",
       "0  Professional         Y  "
      ]
     },
     "execution_count": 28,
     "metadata": {},
     "output_type": "execute_result"
    }
   ],
   "source": [
    "query = 'SELECT * FROM Customers LIMIT 1'\n",
    "\n",
    "df = pd.read_sql_query(query, con)\n",
    "df"
   ]
  },
  {
   "cell_type": "code",
   "execution_count": 29,
   "metadata": {},
   "outputs": [
    {
     "data": {
      "text/html": [
       "<div>\n",
       "<style scoped>\n",
       "    .dataframe tbody tr th:only-of-type {\n",
       "        vertical-align: middle;\n",
       "    }\n",
       "\n",
       "    .dataframe tbody tr th {\n",
       "        vertical-align: top;\n",
       "    }\n",
       "\n",
       "    .dataframe thead th {\n",
       "        text-align: right;\n",
       "    }\n",
       "</style>\n",
       "<table border=\"1\" class=\"dataframe\">\n",
       "  <thead>\n",
       "    <tr style=\"text-align: right;\">\n",
       "      <th></th>\n",
       "      <th>EducationLevel</th>\n",
       "    </tr>\n",
       "  </thead>\n",
       "  <tbody>\n",
       "    <tr>\n",
       "      <th>0</th>\n",
       "      <td>Bachelors</td>\n",
       "    </tr>\n",
       "    <tr>\n",
       "      <th>1</th>\n",
       "      <td>Partial College</td>\n",
       "    </tr>\n",
       "    <tr>\n",
       "      <th>2</th>\n",
       "      <td>High School</td>\n",
       "    </tr>\n",
       "    <tr>\n",
       "      <th>3</th>\n",
       "      <td>Partial High School</td>\n",
       "    </tr>\n",
       "    <tr>\n",
       "      <th>4</th>\n",
       "      <td>Graduate Degree</td>\n",
       "    </tr>\n",
       "  </tbody>\n",
       "</table>\n",
       "</div>"
      ],
      "text/plain": [
       "        EducationLevel\n",
       "0            Bachelors\n",
       "1      Partial College\n",
       "2          High School\n",
       "3  Partial High School\n",
       "4      Graduate Degree"
      ]
     },
     "execution_count": 29,
     "metadata": {},
     "output_type": "execute_result"
    }
   ],
   "source": [
    "query = 'SELECT DISTINCT(EducationLevel) FROM Customers'\n",
    "\n",
    "df = pd.read_sql_query(query, con)\n",
    "df"
   ]
  },
  {
   "cell_type": "code",
   "execution_count": 33,
   "metadata": {},
   "outputs": [
    {
     "data": {
      "text/html": [
       "<div>\n",
       "<style scoped>\n",
       "    .dataframe tbody tr th:only-of-type {\n",
       "        vertical-align: middle;\n",
       "    }\n",
       "\n",
       "    .dataframe tbody tr th {\n",
       "        vertical-align: top;\n",
       "    }\n",
       "\n",
       "    .dataframe thead th {\n",
       "        text-align: right;\n",
       "    }\n",
       "</style>\n",
       "<table border=\"1\" class=\"dataframe\">\n",
       "  <thead>\n",
       "    <tr style=\"text-align: right;\">\n",
       "      <th></th>\n",
       "      <th>Occupation</th>\n",
       "    </tr>\n",
       "  </thead>\n",
       "  <tbody>\n",
       "    <tr>\n",
       "      <th>0</th>\n",
       "      <td>Professional</td>\n",
       "    </tr>\n",
       "    <tr>\n",
       "      <th>1</th>\n",
       "      <td>Management</td>\n",
       "    </tr>\n",
       "    <tr>\n",
       "      <th>2</th>\n",
       "      <td>Skilled Manual</td>\n",
       "    </tr>\n",
       "    <tr>\n",
       "      <th>3</th>\n",
       "      <td>Clerical</td>\n",
       "    </tr>\n",
       "    <tr>\n",
       "      <th>4</th>\n",
       "      <td>Manual</td>\n",
       "    </tr>\n",
       "  </tbody>\n",
       "</table>\n",
       "</div>"
      ],
      "text/plain": [
       "       Occupation\n",
       "0    Professional\n",
       "1      Management\n",
       "2  Skilled Manual\n",
       "3        Clerical\n",
       "4          Manual"
      ]
     },
     "execution_count": 33,
     "metadata": {},
     "output_type": "execute_result"
    }
   ],
   "source": [
    "query = 'SELECT DISTINCT(Occupation) FROM Customers'\n",
    "\n",
    "df = pd.read_sql_query(query, con)\n",
    "df"
   ]
  },
  {
   "cell_type": "markdown",
   "metadata": {},
   "source": [
    "Usar IN para selecionar valores específicos"
   ]
  },
  {
   "cell_type": "code",
   "execution_count": 35,
   "metadata": {},
   "outputs": [
    {
     "data": {
      "text/html": [
       "<div>\n",
       "<style scoped>\n",
       "    .dataframe tbody tr th:only-of-type {\n",
       "        vertical-align: middle;\n",
       "    }\n",
       "\n",
       "    .dataframe tbody tr th {\n",
       "        vertical-align: top;\n",
       "    }\n",
       "\n",
       "    .dataframe thead th {\n",
       "        text-align: right;\n",
       "    }\n",
       "</style>\n",
       "<table border=\"1\" class=\"dataframe\">\n",
       "  <thead>\n",
       "    <tr style=\"text-align: right;\">\n",
       "      <th></th>\n",
       "      <th>FirstName</th>\n",
       "      <th>Gender</th>\n",
       "      <th>AnnualIncome</th>\n",
       "      <th>EducationLevel</th>\n",
       "    </tr>\n",
       "  </thead>\n",
       "  <tbody>\n",
       "    <tr>\n",
       "      <th>0</th>\n",
       "      <td>JON</td>\n",
       "      <td>M</td>\n",
       "      <td>$90,000</td>\n",
       "      <td>Bachelors</td>\n",
       "    </tr>\n",
       "    <tr>\n",
       "      <th>1</th>\n",
       "      <td>EUGENE</td>\n",
       "      <td>M</td>\n",
       "      <td>$60,000</td>\n",
       "      <td>Bachelors</td>\n",
       "    </tr>\n",
       "    <tr>\n",
       "      <th>2</th>\n",
       "      <td>RUBEN</td>\n",
       "      <td>M</td>\n",
       "      <td>$60,000</td>\n",
       "      <td>Bachelors</td>\n",
       "    </tr>\n",
       "    <tr>\n",
       "      <th>3</th>\n",
       "      <td>CHRISTY</td>\n",
       "      <td>F</td>\n",
       "      <td>$70,000</td>\n",
       "      <td>Bachelors</td>\n",
       "    </tr>\n",
       "    <tr>\n",
       "      <th>4</th>\n",
       "      <td>ELIZABETH</td>\n",
       "      <td>F</td>\n",
       "      <td>$80,000</td>\n",
       "      <td>Bachelors</td>\n",
       "    </tr>\n",
       "    <tr>\n",
       "      <th>5</th>\n",
       "      <td>JULIO</td>\n",
       "      <td>M</td>\n",
       "      <td>$70,000</td>\n",
       "      <td>Bachelors</td>\n",
       "    </tr>\n",
       "    <tr>\n",
       "      <th>6</th>\n",
       "      <td>MARCO</td>\n",
       "      <td>M</td>\n",
       "      <td>$60,000</td>\n",
       "      <td>Bachelors</td>\n",
       "    </tr>\n",
       "    <tr>\n",
       "      <th>7</th>\n",
       "      <td>ROBIN</td>\n",
       "      <td>F</td>\n",
       "      <td>$60,000</td>\n",
       "      <td>Bachelors</td>\n",
       "    </tr>\n",
       "    <tr>\n",
       "      <th>8</th>\n",
       "      <td>SHANNON</td>\n",
       "      <td>M</td>\n",
       "      <td>$70,000</td>\n",
       "      <td>Bachelors</td>\n",
       "    </tr>\n",
       "    <tr>\n",
       "      <th>9</th>\n",
       "      <td>JACQUELYN</td>\n",
       "      <td>F</td>\n",
       "      <td>$70,000</td>\n",
       "      <td>Bachelors</td>\n",
       "    </tr>\n",
       "  </tbody>\n",
       "</table>\n",
       "</div>"
      ],
      "text/plain": [
       "   FirstName Gender AnnualIncome EducationLevel\n",
       "0        JON      M     $90,000       Bachelors\n",
       "1     EUGENE      M     $60,000       Bachelors\n",
       "2      RUBEN      M     $60,000       Bachelors\n",
       "3    CHRISTY      F     $70,000       Bachelors\n",
       "4  ELIZABETH      F     $80,000       Bachelors\n",
       "5      JULIO      M     $70,000       Bachelors\n",
       "6      MARCO      M     $60,000       Bachelors\n",
       "7      ROBIN      F     $60,000       Bachelors\n",
       "8    SHANNON      M     $70,000       Bachelors\n",
       "9  JACQUELYN      F     $70,000       Bachelors"
      ]
     },
     "execution_count": 35,
     "metadata": {},
     "output_type": "execute_result"
    }
   ],
   "source": [
    "query = 'SELECT FirstName, Gender, AnnualIncome, EducationLevel FROM Customers WHERE EducationLevel in (\"Bachelors\", \"Graduate Degree\") LIMIT 10'\n",
    "\n",
    "df = pd.read_sql_query(query, con)\n",
    "df"
   ]
  },
  {
   "cell_type": "markdown",
   "metadata": {},
   "source": [
    "Da mesma forma, usar NOT IN para excluir valores específicos."
   ]
  },
  {
   "cell_type": "code",
   "execution_count": 36,
   "metadata": {},
   "outputs": [
    {
     "data": {
      "text/html": [
       "<div>\n",
       "<style scoped>\n",
       "    .dataframe tbody tr th:only-of-type {\n",
       "        vertical-align: middle;\n",
       "    }\n",
       "\n",
       "    .dataframe tbody tr th {\n",
       "        vertical-align: top;\n",
       "    }\n",
       "\n",
       "    .dataframe thead th {\n",
       "        text-align: right;\n",
       "    }\n",
       "</style>\n",
       "<table border=\"1\" class=\"dataframe\">\n",
       "  <thead>\n",
       "    <tr style=\"text-align: right;\">\n",
       "      <th></th>\n",
       "      <th>FirstName</th>\n",
       "      <th>Gender</th>\n",
       "      <th>AnnualIncome</th>\n",
       "      <th>Occupation</th>\n",
       "    </tr>\n",
       "  </thead>\n",
       "  <tbody>\n",
       "    <tr>\n",
       "      <th>0</th>\n",
       "      <td>JON</td>\n",
       "      <td>M</td>\n",
       "      <td>$90,000</td>\n",
       "      <td>Professional</td>\n",
       "    </tr>\n",
       "    <tr>\n",
       "      <th>1</th>\n",
       "      <td>EUGENE</td>\n",
       "      <td>M</td>\n",
       "      <td>$60,000</td>\n",
       "      <td>Professional</td>\n",
       "    </tr>\n",
       "    <tr>\n",
       "      <th>2</th>\n",
       "      <td>RUBEN</td>\n",
       "      <td>M</td>\n",
       "      <td>$60,000</td>\n",
       "      <td>Professional</td>\n",
       "    </tr>\n",
       "    <tr>\n",
       "      <th>3</th>\n",
       "      <td>CHRISTY</td>\n",
       "      <td>F</td>\n",
       "      <td>$70,000</td>\n",
       "      <td>Professional</td>\n",
       "    </tr>\n",
       "    <tr>\n",
       "      <th>4</th>\n",
       "      <td>ELIZABETH</td>\n",
       "      <td>F</td>\n",
       "      <td>$80,000</td>\n",
       "      <td>Professional</td>\n",
       "    </tr>\n",
       "    <tr>\n",
       "      <th>5</th>\n",
       "      <td>JULIO</td>\n",
       "      <td>M</td>\n",
       "      <td>$70,000</td>\n",
       "      <td>Professional</td>\n",
       "    </tr>\n",
       "    <tr>\n",
       "      <th>6</th>\n",
       "      <td>MARCO</td>\n",
       "      <td>M</td>\n",
       "      <td>$60,000</td>\n",
       "      <td>Professional</td>\n",
       "    </tr>\n",
       "    <tr>\n",
       "      <th>7</th>\n",
       "      <td>ROBIN</td>\n",
       "      <td>F</td>\n",
       "      <td>$60,000</td>\n",
       "      <td>Professional</td>\n",
       "    </tr>\n",
       "    <tr>\n",
       "      <th>8</th>\n",
       "      <td>SHANNON</td>\n",
       "      <td>M</td>\n",
       "      <td>$70,000</td>\n",
       "      <td>Professional</td>\n",
       "    </tr>\n",
       "    <tr>\n",
       "      <th>9</th>\n",
       "      <td>JACQUELYN</td>\n",
       "      <td>F</td>\n",
       "      <td>$70,000</td>\n",
       "      <td>Professional</td>\n",
       "    </tr>\n",
       "  </tbody>\n",
       "</table>\n",
       "</div>"
      ],
      "text/plain": [
       "   FirstName Gender AnnualIncome    Occupation\n",
       "0        JON      M     $90,000   Professional\n",
       "1     EUGENE      M     $60,000   Professional\n",
       "2      RUBEN      M     $60,000   Professional\n",
       "3    CHRISTY      F     $70,000   Professional\n",
       "4  ELIZABETH      F     $80,000   Professional\n",
       "5      JULIO      M     $70,000   Professional\n",
       "6      MARCO      M     $60,000   Professional\n",
       "7      ROBIN      F     $60,000   Professional\n",
       "8    SHANNON      M     $70,000   Professional\n",
       "9  JACQUELYN      F     $70,000   Professional"
      ]
     },
     "execution_count": 36,
     "metadata": {},
     "output_type": "execute_result"
    }
   ],
   "source": [
    "query = 'SELECT FirstName, Gender, AnnualIncome, Occupation FROM Customers WHERE Occupation NOT IN (\"Skilled Manual\", \"Manual\",  \"Clerical\") LIMIT 10'\n",
    "\n",
    "df = pd.read_sql_query(query, con)\n",
    "df"
   ]
  }
 ],
 "metadata": {
  "kernelspec": {
   "display_name": "curso-kit-eng-dados",
   "language": "python",
   "name": "python3"
  },
  "language_info": {
   "codemirror_mode": {
    "name": "ipython",
    "version": 3
   },
   "file_extension": ".py",
   "mimetype": "text/x-python",
   "name": "python",
   "nbconvert_exporter": "python",
   "pygments_lexer": "ipython3",
   "version": "3.10.8 (main, Nov 24 2022, 14:13:03) [GCC 11.2.0]"
  },
  "orig_nbformat": 4,
  "vscode": {
   "interpreter": {
    "hash": "9488e8ec80d82c89b5cd9d9b19a41b7fd9b9f5b8a7f3d0129a259c8c66cf4d3b"
   }
  }
 },
 "nbformat": 4,
 "nbformat_minor": 2
}
