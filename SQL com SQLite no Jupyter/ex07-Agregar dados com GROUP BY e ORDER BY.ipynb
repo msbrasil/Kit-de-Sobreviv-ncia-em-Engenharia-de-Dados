{
 "cells": [
  {
   "attachments": {},
   "cell_type": "markdown",
   "metadata": {},
   "source": [
    "`GROUP BY` é uma clausula opcional do SELECT que permite agrupar as linhas por uma ou mais colunas.\n",
    "\n",
    "A cláusula retorna uma linha para cada grupo e permite aplicar metódos de `MIN`, `MAX`, `SUM` `COUNT` e `AVG`."
   ]
  },
  {
   "cell_type": "code",
   "execution_count": 1,
   "metadata": {},
   "outputs": [],
   "source": [
    "import pandas as pd\n",
    "import sqlite3"
   ]
  },
  {
   "cell_type": "code",
   "execution_count": 3,
   "metadata": {},
   "outputs": [
    {
     "name": "stdout",
     "output_type": "stream",
     "text": [
      "Conexão bem sucedida!\n"
     ]
    }
   ],
   "source": [
    "con = sqlite3.connect('../primeiro_banco')\n",
    "cur = con.cursor()\n",
    "print('Conexão bem sucedida!')"
   ]
  },
  {
   "cell_type": "code",
   "execution_count": 15,
   "metadata": {},
   "outputs": [
    {
     "data": {
      "text/html": [
       "<div>\n",
       "<style scoped>\n",
       "    .dataframe tbody tr th:only-of-type {\n",
       "        vertical-align: middle;\n",
       "    }\n",
       "\n",
       "    .dataframe tbody tr th {\n",
       "        vertical-align: top;\n",
       "    }\n",
       "\n",
       "    .dataframe thead th {\n",
       "        text-align: right;\n",
       "    }\n",
       "</style>\n",
       "<table border=\"1\" class=\"dataframe\">\n",
       "  <thead>\n",
       "    <tr style=\"text-align: right;\">\n",
       "      <th></th>\n",
       "      <th>CustomerKey</th>\n",
       "      <th>FirstName</th>\n",
       "      <th>LastName</th>\n",
       "      <th>BirthDate</th>\n",
       "      <th>MaritalStatus</th>\n",
       "      <th>Gender</th>\n",
       "      <th>EmailAddress</th>\n",
       "      <th>AnnualIncome</th>\n",
       "      <th>TotalChildren</th>\n",
       "      <th>EducationLevel</th>\n",
       "      <th>Occupation</th>\n",
       "      <th>HomeOwner</th>\n",
       "    </tr>\n",
       "  </thead>\n",
       "  <tbody>\n",
       "    <tr>\n",
       "      <th>0</th>\n",
       "      <td>11000</td>\n",
       "      <td>JON</td>\n",
       "      <td>YANG</td>\n",
       "      <td>4/8/1966</td>\n",
       "      <td>M</td>\n",
       "      <td>M</td>\n",
       "      <td>jon24@adventure-works.com</td>\n",
       "      <td>90000.0</td>\n",
       "      <td>2</td>\n",
       "      <td>Bachelors</td>\n",
       "      <td>Professional</td>\n",
       "      <td>Y</td>\n",
       "    </tr>\n",
       "    <tr>\n",
       "      <th>1</th>\n",
       "      <td>11001</td>\n",
       "      <td>EUGENE</td>\n",
       "      <td>HUANG</td>\n",
       "      <td>5/14/1965</td>\n",
       "      <td>S</td>\n",
       "      <td>M</td>\n",
       "      <td>eugene10@adventure-works.com</td>\n",
       "      <td>60000.0</td>\n",
       "      <td>3</td>\n",
       "      <td>Bachelors</td>\n",
       "      <td>Professional</td>\n",
       "      <td>N</td>\n",
       "    </tr>\n",
       "    <tr>\n",
       "      <th>2</th>\n",
       "      <td>11002</td>\n",
       "      <td>RUBEN</td>\n",
       "      <td>TORRES</td>\n",
       "      <td>8/12/1965</td>\n",
       "      <td>M</td>\n",
       "      <td>M</td>\n",
       "      <td>ruben35@adventure-works.com</td>\n",
       "      <td>60000.0</td>\n",
       "      <td>3</td>\n",
       "      <td>Bachelors</td>\n",
       "      <td>Professional</td>\n",
       "      <td>Y</td>\n",
       "    </tr>\n",
       "  </tbody>\n",
       "</table>\n",
       "</div>"
      ],
      "text/plain": [
       "   CustomerKey FirstName LastName  BirthDate MaritalStatus Gender  \\\n",
       "0        11000       JON     YANG   4/8/1966             M      M   \n",
       "1        11001    EUGENE    HUANG  5/14/1965             S      M   \n",
       "2        11002     RUBEN   TORRES  8/12/1965             M      M   \n",
       "\n",
       "                   EmailAddress  AnnualIncome  TotalChildren EducationLevel  \\\n",
       "0     jon24@adventure-works.com       90000.0              2      Bachelors   \n",
       "1  eugene10@adventure-works.com       60000.0              3      Bachelors   \n",
       "2   ruben35@adventure-works.com       60000.0              3      Bachelors   \n",
       "\n",
       "     Occupation HomeOwner  \n",
       "0  Professional         Y  \n",
       "1  Professional         N  \n",
       "2  Professional         Y  "
      ]
     },
     "execution_count": 15,
     "metadata": {},
     "output_type": "execute_result"
    }
   ],
   "source": [
    "query = 'SELECT * FROM Customers LIMIT 3'\n",
    "\n",
    "df = pd.read_sql_query(query, con)\n",
    "df"
   ]
  },
  {
   "cell_type": "markdown",
   "metadata": {},
   "source": [
    "Checar valores únicos"
   ]
  },
  {
   "cell_type": "code",
   "execution_count": 12,
   "metadata": {},
   "outputs": [
    {
     "name": "stdout",
     "output_type": "stream",
     "text": [
      "   Ocupations  Education\n",
      "0           5          5\n"
     ]
    }
   ],
   "source": [
    "query = '''\n",
    "SELECT COUNT(DISTINCT Occupation) AS Ocupations,\n",
    "    COUNT(DISTINCT EducationLevel) AS Education\n",
    "FROM Customers\n",
    "'''\n",
    "\n",
    "df = pd.read_sql_query(query, con)\n",
    "print(df)\n",
    "# 5 tipos de ocupação e 5 níveis de educação"
   ]
  },
  {
   "attachments": {},
   "cell_type": "markdown",
   "metadata": {},
   "source": [
    "Consultar valores únicos com `GROUP BY`"
   ]
  },
  {
   "cell_type": "code",
   "execution_count": 21,
   "metadata": {},
   "outputs": [
    {
     "name": "stdout",
     "output_type": "stream",
     "text": [
      "Tipos de ocupações:\n",
      "       Occupation\n",
      "0        Clerical\n",
      "1      Management\n",
      "2          Manual\n",
      "3    Professional\n",
      "4  Skilled Manual\n",
      "\n",
      "Níveis de educação:\n",
      "        EducationLevel\n",
      "0            Bachelors\n",
      "1      Graduate Degree\n",
      "2          High School\n",
      "3      Partial College\n",
      "4  Partial High School\n"
     ]
    }
   ],
   "source": [
    "print('Tipos de ocupações:')\n",
    "query = '''\n",
    "SELECT Occupation\n",
    "FROM Customers\n",
    "GROUP BY Occupation\n",
    "'''\n",
    "df = pd.read_sql_query(query, con)\n",
    "print(df)\n",
    "\n",
    "print()\n",
    "print('Níveis de educação:')\n",
    "query = '''\n",
    "SELECT EducationLevel\n",
    "FROM Customers\n",
    "GROUP BY EducationLevel\n",
    "'''\n",
    "\n",
    "df = pd.read_sql_query(query, con)\n",
    "print(df)"
   ]
  },
  {
   "attachments": {},
   "cell_type": "markdown",
   "metadata": {},
   "source": [
    "Extraindo mais informações com o GROUP BY e metódos de agregação e ordenação com ORDER BY"
   ]
  },
  {
   "cell_type": "code",
   "execution_count": 73,
   "metadata": {},
   "outputs": [
    {
     "name": "stdout",
     "output_type": "stream",
     "text": [
      "        Occupation       EducationLevel  TotalWorkers  AvgIncome  MaxIncome  \\\n",
      "0     Professional            Bachelors          1862   68367.35   150000.0   \n",
      "1     Professional      Partial College          1627   82771.97   170000.0   \n",
      "2       Management            Bachelors          1564   88529.41   170000.0   \n",
      "3   Skilled Manual      Partial College          1288   57663.04    90000.0   \n",
      "4         Clerical      Partial College          1226   34510.60    40000.0   \n",
      "5   Skilled Manual            Bachelors          1099   49126.48    80000.0   \n",
      "6       Management      Graduate Degree          1039   90057.75   170000.0   \n",
      "7   Skilled Manual          High School          1020   37882.35    80000.0   \n",
      "8     Professional          High School           955   71832.46   170000.0   \n",
      "9           Manual          High School           883   18414.50    30000.0   \n",
      "10    Professional      Graduate Degree           846   66241.13   130000.0   \n",
      "11          Manual      Partial College           740   16216.22    30000.0   \n",
      "12  Skilled Manual      Graduate Degree           737   57584.80    80000.0   \n",
      "13        Clerical            Bachelors           654   27721.71    40000.0   \n",
      "14          Manual  Partial High School           588   15153.06    20000.0   \n",
      "15        Clerical  Partial High School           457   23982.49    40000.0   \n",
      "16        Clerical      Graduate Degree           443   31580.14    40000.0   \n",
      "17  Skilled Manual  Partial High School           357   65854.34    90000.0   \n",
      "18      Management          High School           304  107960.53   170000.0   \n",
      "19    Professional  Partial High School           134  116940.30   170000.0   \n",
      "20      Management      Partial College            85  121529.41   170000.0   \n",
      "21          Manual            Bachelors            82   11097.56    20000.0   \n",
      "22        Clerical          High School            79   30000.00    30000.0   \n",
      "23          Manual      Graduate Degree            60   11333.33    20000.0   \n",
      "24      Management  Partial High School            19  131052.63   160000.0   \n",
      "\n",
      "    MinIncome  \n",
      "0     30000.0  \n",
      "1     40000.0  \n",
      "2     40000.0  \n",
      "3     20000.0  \n",
      "4     20000.0  \n",
      "5     30000.0  \n",
      "6     50000.0  \n",
      "7     10000.0  \n",
      "8     30000.0  \n",
      "9     10000.0  \n",
      "10    50000.0  \n",
      "11    10000.0  \n",
      "12    30000.0  \n",
      "13    10000.0  \n",
      "14    10000.0  \n",
      "15    10000.0  \n",
      "16    10000.0  \n",
      "17    30000.0  \n",
      "18    80000.0  \n",
      "19    70000.0  \n",
      "20   100000.0  \n",
      "21    10000.0  \n",
      "22    30000.0  \n",
      "23    10000.0  \n",
      "24   110000.0  \n"
     ]
    }
   ],
   "source": [
    "#Descobrir o maior número de profissionais por ocupação e nível de educação, sua média de renda e o maior e menor salário\n",
    "query = '''\n",
    "SELECT Occupation,\n",
    "EducationLevel, \n",
    "COUNT(Occupation) AS TotalWorkers,\n",
    "ROUND(AVG(AnnualIncome),2) AS AvgIncome,\n",
    "MAX(AnnualIncome) AS MaxIncome,\n",
    "MIN(AnnualIncome) AS MinIncome\n",
    "FROM Customers\n",
    "GROUP BY Occupation, EducationLevel\n",
    "ORDER BY TotalWorkers DESC\n",
    "'''\n",
    "\n",
    "df = pd.read_sql_query(query, con)\n",
    "print(df)"
   ]
  },
  {
   "cell_type": "markdown",
   "metadata": {},
   "source": [
    "Filtrar dados com a cláusula `HAVING`"
   ]
  },
  {
   "cell_type": "code",
   "execution_count": 79,
   "metadata": {},
   "outputs": [
    {
     "name": "stdout",
     "output_type": "stream",
     "text": [
      "       Occupation       EducationLevel  TotalWorkers  AvgIncome  MaxIncome  \\\n",
      "0    Professional      Partial College          1627   82771.97   170000.0   \n",
      "1      Management            Bachelors          1564   88529.41   170000.0   \n",
      "2        Clerical      Partial College          1226   34510.60    40000.0   \n",
      "3      Management      Graduate Degree          1039   90057.75   170000.0   \n",
      "4  Skilled Manual          High School          1020   37882.35    80000.0   \n",
      "5    Professional          High School           955   71832.46   170000.0   \n",
      "6        Clerical  Partial High School           457   23982.49    40000.0   \n",
      "7      Management          High School           304  107960.53   170000.0   \n",
      "8      Management      Partial College            85  121529.41   170000.0   \n",
      "\n",
      "   MinIncome  \n",
      "0    40000.0  \n",
      "1    40000.0  \n",
      "2    20000.0  \n",
      "3    50000.0  \n",
      "4    10000.0  \n",
      "5    30000.0  \n",
      "6    10000.0  \n",
      "7    80000.0  \n",
      "8   100000.0  \n"
     ]
    }
   ],
   "source": [
    "query = '''\n",
    "SELECT Occupation,\n",
    "EducationLevel, \n",
    "COUNT(Occupation) AS TotalWorkers,\n",
    "ROUND(AVG(AnnualIncome),2) AS AvgIncome,\n",
    "MAX(AnnualIncome) AS MaxIncome,\n",
    "MIN(AnnualIncome) AS MinIncome\n",
    "FROM Customers\n",
    "GROUP BY Occupation, EducationLevel\n",
    "HAVING TotalChildren >= 2\n",
    "ORDER BY TotalWorkers DESC\n",
    "'''\n",
    "\n",
    "df = pd.read_sql_query(query, con)\n",
    "print(df)"
   ]
  },
  {
   "cell_type": "code",
   "execution_count": 93,
   "metadata": {},
   "outputs": [
    {
     "name": "stdout",
     "output_type": "stream",
     "text": [
      "        Occupation       EducationLevel  TotalEducation\n",
      "0   Skilled Manual            Bachelors            1099\n",
      "1   Skilled Manual      Graduate Degree             737\n",
      "2   Skilled Manual          High School            1020\n",
      "3   Skilled Manual      Partial College            1288\n",
      "4   Skilled Manual  Partial High School             357\n",
      "5     Professional            Bachelors            1862\n",
      "6     Professional      Graduate Degree             846\n",
      "7     Professional          High School             955\n",
      "8     Professional      Partial College            1627\n",
      "9     Professional  Partial High School             134\n",
      "10          Manual            Bachelors              82\n",
      "11          Manual      Graduate Degree              60\n",
      "12          Manual          High School             883\n",
      "13          Manual      Partial College             740\n",
      "14          Manual  Partial High School             588\n",
      "15      Management            Bachelors            1564\n",
      "16      Management      Graduate Degree            1039\n",
      "17      Management          High School             304\n",
      "18      Management      Partial College              85\n",
      "19      Management  Partial High School              19\n",
      "20        Clerical            Bachelors             654\n",
      "21        Clerical      Graduate Degree             443\n",
      "22        Clerical          High School              79\n",
      "23        Clerical      Partial College            1226\n",
      "24        Clerical  Partial High School             457\n"
     ]
    }
   ],
   "source": [
    "query = '''\n",
    "SELECT\n",
    "Occupation,\n",
    "EducationLevel,\n",
    "COUNT(EducationLevel) AS TotalEducation\n",
    "FROM Customers\n",
    "GROUP BY Occupation, EducationLevel\n",
    "ORDER BY Occupation DESC\n",
    "'''\n",
    "\n",
    "df = pd.read_sql_query(query, con)\n",
    "print(df)"
   ]
  }
 ],
 "metadata": {
  "kernelspec": {
   "display_name": "curso-kit-eng-dados",
   "language": "python",
   "name": "python3"
  },
  "language_info": {
   "codemirror_mode": {
    "name": "ipython",
    "version": 3
   },
   "file_extension": ".py",
   "mimetype": "text/x-python",
   "name": "python",
   "nbconvert_exporter": "python",
   "pygments_lexer": "ipython3",
   "version": "3.10.8 (main, Nov 24 2022, 14:13:03) [GCC 11.2.0]"
  },
  "orig_nbformat": 4,
  "vscode": {
   "interpreter": {
    "hash": "9488e8ec80d82c89b5cd9d9b19a41b7fd9b9f5b8a7f3d0129a259c8c66cf4d3b"
   }
  }
 },
 "nbformat": 4,
 "nbformat_minor": 2
}
