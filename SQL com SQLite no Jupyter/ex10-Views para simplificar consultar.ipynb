{
 "cells": [
  {
   "attachments": {},
   "cell_type": "markdown",
   "metadata": {},
   "source": [
    "View é uma consulta que pode ser usada como uma tabela, mas não armazena nenhum dado. Toda vez que uma view é usada, o SQLite executa a consulta que a define. Uma view pode ser usada para simplificar uma consulta complexa, ou para fornecer uma visão de dados que não está armazenada em uma tabela.\n",
    "\n",
    "Uma view é criada usando a cláusula CREATE VIEW. A sintaxe é:\n",
    "\n",
    "`CREATE [TEMP | TEMPORARY] VIEW nome_da_view AS`\n",
    "    \n",
    "    SELECT ...\n",
    "    \n",
    "    FROM ...\n",
    "    \n",
    "    WHERE [Condição]\n",
    "\n",
    "Sendo apenas umas visualização, não é possível usar ISERT, UPDATE ou DELETE em uma view. "
   ]
  },
  {
   "cell_type": "code",
   "execution_count": 1,
   "metadata": {},
   "outputs": [],
   "source": [
    "import pandas as pd\n",
    "import sqlite3 "
   ]
  },
  {
   "cell_type": "code",
   "execution_count": 2,
   "metadata": {},
   "outputs": [
    {
     "name": "stdout",
     "output_type": "stream",
     "text": [
      "Conexão realizada com sucesso!\n"
     ]
    }
   ],
   "source": [
    "con = sqlite3.connect('../primeiro_banco')\n",
    "cur = con.cursor()\n",
    "print('Conexão realizada com sucesso!')"
   ]
  },
  {
   "cell_type": "code",
   "execution_count": 5,
   "metadata": {},
   "outputs": [
    {
     "data": {
      "text/html": [
       "<div>\n",
       "<style scoped>\n",
       "    .dataframe tbody tr th:only-of-type {\n",
       "        vertical-align: middle;\n",
       "    }\n",
       "\n",
       "    .dataframe tbody tr th {\n",
       "        vertical-align: top;\n",
       "    }\n",
       "\n",
       "    .dataframe thead th {\n",
       "        text-align: right;\n",
       "    }\n",
       "</style>\n",
       "<table border=\"1\" class=\"dataframe\">\n",
       "  <thead>\n",
       "    <tr style=\"text-align: right;\">\n",
       "      <th></th>\n",
       "      <th>name</th>\n",
       "    </tr>\n",
       "  </thead>\n",
       "  <tbody>\n",
       "    <tr>\n",
       "      <th>0</th>\n",
       "      <td>Teste</td>\n",
       "    </tr>\n",
       "    <tr>\n",
       "      <th>1</th>\n",
       "      <td>Customers</td>\n",
       "    </tr>\n",
       "  </tbody>\n",
       "</table>\n",
       "</div>"
      ],
      "text/plain": [
       "        name\n",
       "0      Teste\n",
       "1  Customers"
      ]
     },
     "execution_count": 5,
     "metadata": {},
     "output_type": "execute_result"
    }
   ],
   "source": [
    "query = 'SELECT name from sqlite_master where type = \"table\"'\n",
    "\n",
    "df = pd.read_sql_query(query, con)\n",
    "df"
   ]
  },
  {
   "cell_type": "code",
   "execution_count": 7,
   "metadata": {},
   "outputs": [
    {
     "data": {
      "text/html": [
       "<div>\n",
       "<style scoped>\n",
       "    .dataframe tbody tr th:only-of-type {\n",
       "        vertical-align: middle;\n",
       "    }\n",
       "\n",
       "    .dataframe tbody tr th {\n",
       "        vertical-align: top;\n",
       "    }\n",
       "\n",
       "    .dataframe thead th {\n",
       "        text-align: right;\n",
       "    }\n",
       "</style>\n",
       "<table border=\"1\" class=\"dataframe\">\n",
       "  <thead>\n",
       "    <tr style=\"text-align: right;\">\n",
       "      <th></th>\n",
       "      <th>CustomerKey</th>\n",
       "      <th>FirstName</th>\n",
       "      <th>LastName</th>\n",
       "      <th>BirthDate</th>\n",
       "      <th>MaritalStatus</th>\n",
       "      <th>Gender</th>\n",
       "      <th>EmailAddress</th>\n",
       "      <th>AnnualIncome</th>\n",
       "      <th>TotalChildren</th>\n",
       "      <th>EducationLevel</th>\n",
       "      <th>Occupation</th>\n",
       "      <th>HomeOwner</th>\n",
       "    </tr>\n",
       "  </thead>\n",
       "  <tbody>\n",
       "    <tr>\n",
       "      <th>0</th>\n",
       "      <td>11000</td>\n",
       "      <td>JON</td>\n",
       "      <td>YANG</td>\n",
       "      <td>4/8/1966</td>\n",
       "      <td>M</td>\n",
       "      <td>M</td>\n",
       "      <td>jon24@adventure-works.com</td>\n",
       "      <td>90000.0</td>\n",
       "      <td>2</td>\n",
       "      <td>Bachelors</td>\n",
       "      <td>Professional</td>\n",
       "      <td>Y</td>\n",
       "    </tr>\n",
       "    <tr>\n",
       "      <th>1</th>\n",
       "      <td>11001</td>\n",
       "      <td>EUGENE</td>\n",
       "      <td>HUANG</td>\n",
       "      <td>5/14/1965</td>\n",
       "      <td>S</td>\n",
       "      <td>M</td>\n",
       "      <td>eugene10@adventure-works.com</td>\n",
       "      <td>60000.0</td>\n",
       "      <td>3</td>\n",
       "      <td>Bachelors</td>\n",
       "      <td>Professional</td>\n",
       "      <td>N</td>\n",
       "    </tr>\n",
       "    <tr>\n",
       "      <th>2</th>\n",
       "      <td>11002</td>\n",
       "      <td>RUBEN</td>\n",
       "      <td>TORRES</td>\n",
       "      <td>8/12/1965</td>\n",
       "      <td>M</td>\n",
       "      <td>M</td>\n",
       "      <td>ruben35@adventure-works.com</td>\n",
       "      <td>60000.0</td>\n",
       "      <td>3</td>\n",
       "      <td>Bachelors</td>\n",
       "      <td>Professional</td>\n",
       "      <td>Y</td>\n",
       "    </tr>\n",
       "  </tbody>\n",
       "</table>\n",
       "</div>"
      ],
      "text/plain": [
       "   CustomerKey FirstName LastName  BirthDate MaritalStatus Gender  \\\n",
       "0        11000       JON     YANG   4/8/1966             M      M   \n",
       "1        11001    EUGENE    HUANG  5/14/1965             S      M   \n",
       "2        11002     RUBEN   TORRES  8/12/1965             M      M   \n",
       "\n",
       "                   EmailAddress  AnnualIncome  TotalChildren EducationLevel  \\\n",
       "0     jon24@adventure-works.com       90000.0              2      Bachelors   \n",
       "1  eugene10@adventure-works.com       60000.0              3      Bachelors   \n",
       "2   ruben35@adventure-works.com       60000.0              3      Bachelors   \n",
       "\n",
       "     Occupation HomeOwner  \n",
       "0  Professional         Y  \n",
       "1  Professional         N  \n",
       "2  Professional         Y  "
      ]
     },
     "execution_count": 7,
     "metadata": {},
     "output_type": "execute_result"
    }
   ],
   "source": [
    "query = 'SELECT * FROM Customers LIMIT 3'\n",
    "\n",
    "df = pd.read_sql_query(query, con)\n",
    "df"
   ]
  },
  {
   "attachments": {},
   "cell_type": "markdown",
   "metadata": {},
   "source": [
    "Simplificação das consultas\n"
   ]
  },
  {
   "cell_type": "markdown",
   "metadata": {},
   "source": [
    "Consulta que será simplificada"
   ]
  },
  {
   "cell_type": "code",
   "execution_count": null,
   "metadata": {},
   "outputs": [
    {
     "data": {
      "text/html": [
       "<div>\n",
       "<style scoped>\n",
       "    .dataframe tbody tr th:only-of-type {\n",
       "        vertical-align: middle;\n",
       "    }\n",
       "\n",
       "    .dataframe tbody tr th {\n",
       "        vertical-align: top;\n",
       "    }\n",
       "\n",
       "    .dataframe thead th {\n",
       "        text-align: right;\n",
       "    }\n",
       "</style>\n",
       "<table border=\"1\" class=\"dataframe\">\n",
       "  <thead>\n",
       "    <tr style=\"text-align: right;\">\n",
       "      <th></th>\n",
       "      <th>FirstName</th>\n",
       "      <th>LastName</th>\n",
       "      <th>MaritalStatus</th>\n",
       "      <th>Gender</th>\n",
       "      <th>Occupation</th>\n",
       "      <th>AnnualIncome</th>\n",
       "      <th>IncomeLevel</th>\n",
       "      <th>TotalLevel</th>\n",
       "    </tr>\n",
       "  </thead>\n",
       "  <tbody>\n",
       "    <tr>\n",
       "      <th>0</th>\n",
       "      <td>JON</td>\n",
       "      <td>YANG</td>\n",
       "      <td>M</td>\n",
       "      <td>M</td>\n",
       "      <td>Professional</td>\n",
       "      <td>90000.0</td>\n",
       "      <td>B</td>\n",
       "      <td>2973</td>\n",
       "    </tr>\n",
       "    <tr>\n",
       "      <th>1</th>\n",
       "      <td>EUGENE</td>\n",
       "      <td>HUANG</td>\n",
       "      <td>S</td>\n",
       "      <td>M</td>\n",
       "      <td>Professional</td>\n",
       "      <td>60000.0</td>\n",
       "      <td>C</td>\n",
       "      <td>10059</td>\n",
       "    </tr>\n",
       "    <tr>\n",
       "      <th>2</th>\n",
       "      <td>CHLOE</td>\n",
       "      <td>YOUNG</td>\n",
       "      <td>S</td>\n",
       "      <td>F</td>\n",
       "      <td>Skilled Manual</td>\n",
       "      <td>30000.0</td>\n",
       "      <td>D</td>\n",
       "      <td>5116</td>\n",
       "    </tr>\n",
       "  </tbody>\n",
       "</table>\n",
       "</div>"
      ],
      "text/plain": [
       "  FirstName LastName MaritalStatus Gender      Occupation  AnnualIncome  \\\n",
       "0       JON     YANG             M      M    Professional       90000.0   \n",
       "1    EUGENE    HUANG             S      M    Professional       60000.0   \n",
       "2     CHLOE    YOUNG             S      F  Skilled Manual       30000.0   \n",
       "\n",
       "  IncomeLevel  TotalLevel  \n",
       "0           B        2973  \n",
       "1           C       10059  \n",
       "2           D        5116  "
      ]
     },
     "metadata": {},
     "output_type": "display_data"
    }
   ],
   "source": [
    "query = '''\n",
    "SELECT FirstName, LastName, MaritalStatus, Gender, Occupation, AnnualIncome, IncomeLevel, COUNT(IncomeLevel) as TotalLevel\n",
    "FROM(\n",
    "SELECT FirstName, LastName, MaritalStatus, Gender, Occupation, AnnualIncome,\n",
    "CASE \n",
    "    WHEN (AnnualIncome) > 260000 THEN 'A'\n",
    "    WHEN (AnnualIncome) BETWEEN 84000 AND 260000 THEN 'B'\n",
    "    WHEN (AnnualIncome) BETWEEN 36000 AND 84000 THEN 'C'\n",
    "    WHEN (AnnualIncome) < 36000 THEN 'D'\n",
    "    ELSE 'não informado'\n",
    "END IncomeLevel\n",
    "FROM Customers)\n",
    "GROUP BY IncomeLevel\n",
    "LIMIT 10\n",
    "'''\n",
    "\n",
    "df = pd.read_sql_query(query, con)\n",
    "df"
   ]
  },
  {
   "cell_type": "markdown",
   "metadata": {},
   "source": [
    "Criação da view"
   ]
  },
  {
   "cell_type": "code",
   "execution_count": 19,
   "metadata": {},
   "outputs": [],
   "source": [
    "con.executescript('''\n",
    "    CREATE VIEW GrupoRenda_VW AS SELECT FirstName, LastName, MaritalStatus, Gender, Occupation, AnnualIncome, IncomeLevel, COUNT(IncomeLevel) as TotalLevel\n",
    "FROM(\n",
    "SELECT FirstName, LastName, MaritalStatus, Gender, Occupation, AnnualIncome,\n",
    "CASE \n",
    "    WHEN (AnnualIncome) > 260000 THEN 'A'\n",
    "    WHEN (AnnualIncome) BETWEEN 84000 AND 260000 THEN 'B'\n",
    "    WHEN (AnnualIncome) BETWEEN 36000 AND 84000 THEN 'C'\n",
    "    WHEN (AnnualIncome) < 36000 THEN 'D'\n",
    "    ELSE 'não informado'\n",
    "END IncomeLevel\n",
    "FROM Customers)\n",
    "GROUP BY IncomeLevel\n",
    "LIMIT 10\n",
    "'''\n",
    ")\n",
    "\n",
    "con.commit()"
   ]
  },
  {
   "cell_type": "code",
   "execution_count": 21,
   "metadata": {},
   "outputs": [
    {
     "data": {
      "text/html": [
       "<div>\n",
       "<style scoped>\n",
       "    .dataframe tbody tr th:only-of-type {\n",
       "        vertical-align: middle;\n",
       "    }\n",
       "\n",
       "    .dataframe tbody tr th {\n",
       "        vertical-align: top;\n",
       "    }\n",
       "\n",
       "    .dataframe thead th {\n",
       "        text-align: right;\n",
       "    }\n",
       "</style>\n",
       "<table border=\"1\" class=\"dataframe\">\n",
       "  <thead>\n",
       "    <tr style=\"text-align: right;\">\n",
       "      <th></th>\n",
       "      <th>FirstName</th>\n",
       "      <th>LastName</th>\n",
       "      <th>MaritalStatus</th>\n",
       "      <th>Gender</th>\n",
       "      <th>Occupation</th>\n",
       "      <th>AnnualIncome</th>\n",
       "      <th>IncomeLevel</th>\n",
       "      <th>TotalLevel</th>\n",
       "    </tr>\n",
       "  </thead>\n",
       "  <tbody>\n",
       "    <tr>\n",
       "      <th>0</th>\n",
       "      <td>JON</td>\n",
       "      <td>YANG</td>\n",
       "      <td>M</td>\n",
       "      <td>M</td>\n",
       "      <td>Professional</td>\n",
       "      <td>90000.0</td>\n",
       "      <td>B</td>\n",
       "      <td>2973</td>\n",
       "    </tr>\n",
       "    <tr>\n",
       "      <th>1</th>\n",
       "      <td>EUGENE</td>\n",
       "      <td>HUANG</td>\n",
       "      <td>S</td>\n",
       "      <td>M</td>\n",
       "      <td>Professional</td>\n",
       "      <td>60000.0</td>\n",
       "      <td>C</td>\n",
       "      <td>10059</td>\n",
       "    </tr>\n",
       "    <tr>\n",
       "      <th>2</th>\n",
       "      <td>CHLOE</td>\n",
       "      <td>YOUNG</td>\n",
       "      <td>S</td>\n",
       "      <td>F</td>\n",
       "      <td>Skilled Manual</td>\n",
       "      <td>30000.0</td>\n",
       "      <td>D</td>\n",
       "      <td>5116</td>\n",
       "    </tr>\n",
       "  </tbody>\n",
       "</table>\n",
       "</div>"
      ],
      "text/plain": [
       "  FirstName LastName MaritalStatus Gender      Occupation  AnnualIncome  \\\n",
       "0       JON     YANG             M      M    Professional       90000.0   \n",
       "1    EUGENE    HUANG             S      M    Professional       60000.0   \n",
       "2     CHLOE    YOUNG             S      F  Skilled Manual       30000.0   \n",
       "\n",
       "  IncomeLevel  TotalLevel  \n",
       "0           B        2973  \n",
       "1           C       10059  \n",
       "2           D        5116  "
      ]
     },
     "execution_count": 21,
     "metadata": {},
     "output_type": "execute_result"
    }
   ],
   "source": [
    "query = 'SELECT * FROM GrupoRenda_VW'\n",
    "\n",
    "df = pd.read_sql_query(query, con)\n",
    "df"
   ]
  },
  {
   "attachments": {},
   "cell_type": "markdown",
   "metadata": {},
   "source": [
    "Cálculos com View"
   ]
  },
  {
   "cell_type": "code",
   "execution_count": 23,
   "metadata": {},
   "outputs": [
    {
     "data": {
      "text/html": [
       "<div>\n",
       "<style scoped>\n",
       "    .dataframe tbody tr th:only-of-type {\n",
       "        vertical-align: middle;\n",
       "    }\n",
       "\n",
       "    .dataframe tbody tr th {\n",
       "        vertical-align: top;\n",
       "    }\n",
       "\n",
       "    .dataframe thead th {\n",
       "        text-align: right;\n",
       "    }\n",
       "</style>\n",
       "<table border=\"1\" class=\"dataframe\">\n",
       "  <thead>\n",
       "    <tr style=\"text-align: right;\">\n",
       "      <th></th>\n",
       "      <th>Total</th>\n",
       "    </tr>\n",
       "  </thead>\n",
       "  <tbody>\n",
       "    <tr>\n",
       "      <th>0</th>\n",
       "      <td>18148</td>\n",
       "    </tr>\n",
       "  </tbody>\n",
       "</table>\n",
       "</div>"
      ],
      "text/plain": [
       "   Total\n",
       "0  18148"
      ]
     },
     "execution_count": 23,
     "metadata": {},
     "output_type": "execute_result"
    }
   ],
   "source": [
    "query = 'SELECT SUM(TotalLevel) AS Total FROM GrupoRenda_VW'\n",
    "\n",
    "df = pd.read_sql_query(query, con)\n",
    "df"
   ]
  },
  {
   "cell_type": "markdown",
   "metadata": {},
   "source": [
    "Deletar uma view"
   ]
  },
  {
   "cell_type": "code",
   "execution_count": 24,
   "metadata": {},
   "outputs": [],
   "source": [
    "con.execute('DROP VIEW GrupoRenda_VW')\n",
    "\n",
    "con.commit()"
   ]
  }
 ],
 "metadata": {
  "kernelspec": {
   "display_name": "curso-kit-eng-dados",
   "language": "python",
   "name": "python3"
  },
  "language_info": {
   "codemirror_mode": {
    "name": "ipython",
    "version": 3
   },
   "file_extension": ".py",
   "mimetype": "text/x-python",
   "name": "python",
   "nbconvert_exporter": "python",
   "pygments_lexer": "ipython3",
   "version": "3.10.8 (main, Nov 24 2022, 14:13:03) [GCC 11.2.0]"
  },
  "orig_nbformat": 4,
  "vscode": {
   "interpreter": {
    "hash": "9488e8ec80d82c89b5cd9d9b19a41b7fd9b9f5b8a7f3d0129a259c8c66cf4d3b"
   }
  }
 },
 "nbformat": 4,
 "nbformat_minor": 2
}
