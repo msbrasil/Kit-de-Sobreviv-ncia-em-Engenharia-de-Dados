{
 "cells": [
  {
   "attachments": {},
   "cell_type": "markdown",
   "metadata": {},
   "source": [
    "SQLite suporta funções de **date** e **time**:\n",
    "\n",
    "- `date(timestring, modifier, modifier, ...)`\n",
    "- `time(timestring, modifier, modifier, ...)`\n",
    "- `datetime(timestring, modifier, modifier, ...)`\n",
    "- `julianday(timestring, modifier, modifier, ...)`\n",
    "- `strftime(format, timestring, modifier, modifier, ...)`\n",
    "\n",
    "Todas recebem uma string de tempo como argumento e podem ser acompanhadas de modificadores. "
   ]
  },
  {
   "cell_type": "markdown",
   "metadata": {},
   "source": [
    "Este notebook apresenta:\n",
    "\n",
    " - Exemplos de funções date e time \n",
    " - Criar uma tabela e indíce de temperatura\n",
    " - Inserir dados na tabela\n",
    "- Consultar dados na tabela"
   ]
  },
  {
   "cell_type": "code",
   "execution_count": 2,
   "metadata": {},
   "outputs": [],
   "source": [
    "#pacotes\n",
    "\n",
    "from random import uniform, choice\n",
    "import time\n",
    "from datetime import datetime, timedelta\n",
    "import pandas as pd\n",
    "import matplotlib.pyplot as plt\n",
    "import sqlite3"
   ]
  },
  {
   "cell_type": "code",
   "execution_count": 3,
   "metadata": {},
   "outputs": [
    {
     "name": "stdout",
     "output_type": "stream",
     "text": [
      "conexão aberta\n"
     ]
    }
   ],
   "source": [
    "con = sqlite3.connect('../primeiro_banco')\n",
    "cur = con.cursor()\n",
    "print('conexão aberta')"
   ]
  },
  {
   "attachments": {},
   "cell_type": "markdown",
   "metadata": {},
   "source": [
    "Exemplo com datas e funções de datas"
   ]
  },
  {
   "cell_type": "code",
   "execution_count": 6,
   "metadata": {},
   "outputs": [
    {
     "data": {
      "text/html": [
       "<div>\n",
       "<style scoped>\n",
       "    .dataframe tbody tr th:only-of-type {\n",
       "        vertical-align: middle;\n",
       "    }\n",
       "\n",
       "    .dataframe tbody tr th {\n",
       "        vertical-align: top;\n",
       "    }\n",
       "\n",
       "    .dataframe thead th {\n",
       "        text-align: right;\n",
       "    }\n",
       "</style>\n",
       "<table border=\"1\" class=\"dataframe\">\n",
       "  <thead>\n",
       "    <tr style=\"text-align: right;\">\n",
       "      <th></th>\n",
       "      <th>data_atual</th>\n",
       "    </tr>\n",
       "  </thead>\n",
       "  <tbody>\n",
       "    <tr>\n",
       "      <th>0</th>\n",
       "      <td>2023-01-03</td>\n",
       "    </tr>\n",
       "  </tbody>\n",
       "</table>\n",
       "</div>"
      ],
      "text/plain": [
       "   data_atual\n",
       "0  2023-01-03"
      ]
     },
     "execution_count": 6,
     "metadata": {},
     "output_type": "execute_result"
    }
   ],
   "source": [
    "#Visualizar a data atual\n",
    "\n",
    "query = 'SELECT DATE(\"now\") AS data_atual'\n",
    "\n",
    "df = pd.read_sql_query(query, con)\n",
    "df"
   ]
  },
  {
   "cell_type": "code",
   "execution_count": 11,
   "metadata": {},
   "outputs": [
    {
     "data": {
      "text/html": [
       "<div>\n",
       "<style scoped>\n",
       "    .dataframe tbody tr th:only-of-type {\n",
       "        vertical-align: middle;\n",
       "    }\n",
       "\n",
       "    .dataframe tbody tr th {\n",
       "        vertical-align: top;\n",
       "    }\n",
       "\n",
       "    .dataframe thead th {\n",
       "        text-align: right;\n",
       "    }\n",
       "</style>\n",
       "<table border=\"1\" class=\"dataframe\">\n",
       "  <thead>\n",
       "    <tr style=\"text-align: right;\">\n",
       "      <th></th>\n",
       "      <th>ultimo_dia</th>\n",
       "    </tr>\n",
       "  </thead>\n",
       "  <tbody>\n",
       "    <tr>\n",
       "      <th>0</th>\n",
       "      <td>2023-01-31</td>\n",
       "    </tr>\n",
       "  </tbody>\n",
       "</table>\n",
       "</div>"
      ],
      "text/plain": [
       "   ultimo_dia\n",
       "0  2023-01-31"
      ]
     },
     "execution_count": 11,
     "metadata": {},
     "output_type": "execute_result"
    }
   ],
   "source": [
    "#Último dia do mês atual\n",
    "\n",
    "query = 'SELECT DATE(\"now\", \"start of month\", \"+1 month\", \"-1 day\") AS ultimo_dia'\n",
    "\n",
    "df = pd.read_sql_query(query, con)\n",
    "df"
   ]
  },
  {
   "cell_type": "code",
   "execution_count": 13,
   "metadata": {},
   "outputs": [
    {
     "data": {
      "text/html": [
       "<div>\n",
       "<style scoped>\n",
       "    .dataframe tbody tr th:only-of-type {\n",
       "        vertical-align: middle;\n",
       "    }\n",
       "\n",
       "    .dataframe tbody tr th {\n",
       "        vertical-align: top;\n",
       "    }\n",
       "\n",
       "    .dataframe thead th {\n",
       "        text-align: right;\n",
       "    }\n",
       "</style>\n",
       "<table border=\"1\" class=\"dataframe\">\n",
       "  <thead>\n",
       "    <tr style=\"text-align: right;\">\n",
       "      <th></th>\n",
       "      <th>primeira_terca_feira</th>\n",
       "    </tr>\n",
       "  </thead>\n",
       "  <tbody>\n",
       "    <tr>\n",
       "      <th>0</th>\n",
       "      <td>2023-10-03</td>\n",
       "    </tr>\n",
       "  </tbody>\n",
       "</table>\n",
       "</div>"
      ],
      "text/plain": [
       "  primeira_terca_feira\n",
       "0           2023-10-03"
      ]
     },
     "execution_count": 13,
     "metadata": {},
     "output_type": "execute_result"
    }
   ],
   "source": [
    "#data da primeira terça feira de outubro do ano corrente\n",
    "\n",
    "query = 'SELECT DATE(\"now\", \"start of year\", \"+9 months\", \"weekday 2\") AS primeira_terca_feira'\n",
    "\n",
    "df = pd.read_sql_query(query, con)\n",
    "df"
   ]
  },
  {
   "cell_type": "markdown",
   "metadata": {},
   "source": [
    "Tabela de série temporal de temperatura"
   ]
  },
  {
   "cell_type": "code",
   "execution_count": 24,
   "metadata": {},
   "outputs": [],
   "source": [
    "#criar tabela\n",
    "\n",
    "con.executescript('''\n",
    "DROP TABLE IF EXISTS Temperature;\n",
    "CREATE TABLE Temperature (\n",
    "    Timestamp DATETIME NOT NULL,\n",
    "    Temperature NUMERIC NOT NULL\n",
    "    );\n",
    "'''\n",
    ")\n",
    "\n",
    "con.commit()"
   ]
  },
  {
   "cell_type": "code",
   "execution_count": 25,
   "metadata": {},
   "outputs": [],
   "source": [
    "#criar índice para a coluna Timestamp\n",
    "\n",
    "con.execute('CREATE UNIQUE INDEX idx_timestamp ON Temperature (Timestamp);')\n",
    "\n",
    "con.commit()"
   ]
  },
  {
   "cell_type": "code",
   "execution_count": 28,
   "metadata": {},
   "outputs": [
    {
     "data": {
      "text/html": [
       "<div>\n",
       "<style scoped>\n",
       "    .dataframe tbody tr th:only-of-type {\n",
       "        vertical-align: middle;\n",
       "    }\n",
       "\n",
       "    .dataframe tbody tr th {\n",
       "        vertical-align: top;\n",
       "    }\n",
       "\n",
       "    .dataframe thead th {\n",
       "        text-align: right;\n",
       "    }\n",
       "</style>\n",
       "<table border=\"1\" class=\"dataframe\">\n",
       "  <thead>\n",
       "    <tr style=\"text-align: right;\">\n",
       "      <th></th>\n",
       "      <th>Timestamp</th>\n",
       "      <th>Temperature</th>\n",
       "    </tr>\n",
       "  </thead>\n",
       "  <tbody>\n",
       "  </tbody>\n",
       "</table>\n",
       "</div>"
      ],
      "text/plain": [
       "Empty DataFrame\n",
       "Columns: [Timestamp, Temperature]\n",
       "Index: []"
      ]
     },
     "execution_count": 28,
     "metadata": {},
     "output_type": "execute_result"
    }
   ],
   "source": [
    "query = 'SELECT * FROM Temperature'\n",
    "\n",
    "df = pd.read_sql_query(query, con)\n",
    "df"
   ]
  },
  {
   "cell_type": "code",
   "execution_count": 30,
   "metadata": {},
   "outputs": [],
   "source": [
    "#inserir dados\n",
    "\n",
    "def dt(days):\n",
    "    return timedelta(days=days)\n",
    "\n",
    "N_rows = 500\n",
    "now = datetime.now()\n",
    "\n",
    "for i in range(N_rows):\n",
    "    timestamp = now - dt(days=(N_rows-i))\n",
    "    temperature = uniform(18, 26)\n",
    "    con.execute(f'INSERT INTO Temperature VALUES (\"{timestamp}\", \"{temperature}\");')\n",
    "    con.commit()"
   ]
  },
  {
   "cell_type": "code",
   "execution_count": 32,
   "metadata": {},
   "outputs": [
    {
     "data": {
      "text/html": [
       "<div>\n",
       "<style scoped>\n",
       "    .dataframe tbody tr th:only-of-type {\n",
       "        vertical-align: middle;\n",
       "    }\n",
       "\n",
       "    .dataframe tbody tr th {\n",
       "        vertical-align: top;\n",
       "    }\n",
       "\n",
       "    .dataframe thead th {\n",
       "        text-align: right;\n",
       "    }\n",
       "</style>\n",
       "<table border=\"1\" class=\"dataframe\">\n",
       "  <thead>\n",
       "    <tr style=\"text-align: right;\">\n",
       "      <th></th>\n",
       "      <th>Timestamp</th>\n",
       "      <th>Temperature</th>\n",
       "    </tr>\n",
       "  </thead>\n",
       "  <tbody>\n",
       "    <tr>\n",
       "      <th>0</th>\n",
       "      <td>2021-08-21 11:34:50.711019</td>\n",
       "      <td>18.916893</td>\n",
       "    </tr>\n",
       "    <tr>\n",
       "      <th>1</th>\n",
       "      <td>2021-08-22 11:34:50.711019</td>\n",
       "      <td>20.689565</td>\n",
       "    </tr>\n",
       "    <tr>\n",
       "      <th>2</th>\n",
       "      <td>2021-08-23 11:34:50.711019</td>\n",
       "      <td>23.393948</td>\n",
       "    </tr>\n",
       "    <tr>\n",
       "      <th>3</th>\n",
       "      <td>2021-08-24 11:34:50.711019</td>\n",
       "      <td>25.135592</td>\n",
       "    </tr>\n",
       "    <tr>\n",
       "      <th>4</th>\n",
       "      <td>2021-08-25 11:34:50.711019</td>\n",
       "      <td>23.200781</td>\n",
       "    </tr>\n",
       "  </tbody>\n",
       "</table>\n",
       "</div>"
      ],
      "text/plain": [
       "                    Timestamp  Temperature\n",
       "0  2021-08-21 11:34:50.711019    18.916893\n",
       "1  2021-08-22 11:34:50.711019    20.689565\n",
       "2  2021-08-23 11:34:50.711019    23.393948\n",
       "3  2021-08-24 11:34:50.711019    25.135592\n",
       "4  2021-08-25 11:34:50.711019    23.200781"
      ]
     },
     "execution_count": 32,
     "metadata": {},
     "output_type": "execute_result"
    }
   ],
   "source": [
    "query = 'SELECT * FROM Temperature LIMIT 5'\n",
    "\n",
    "df = pd.read_sql_query(query, con)\n",
    "df"
   ]
  },
  {
   "cell_type": "code",
   "execution_count": 33,
   "metadata": {},
   "outputs": [
    {
     "data": {
      "text/html": [
       "<div>\n",
       "<style scoped>\n",
       "    .dataframe tbody tr th:only-of-type {\n",
       "        vertical-align: middle;\n",
       "    }\n",
       "\n",
       "    .dataframe tbody tr th {\n",
       "        vertical-align: top;\n",
       "    }\n",
       "\n",
       "    .dataframe thead th {\n",
       "        text-align: right;\n",
       "    }\n",
       "</style>\n",
       "<table border=\"1\" class=\"dataframe\">\n",
       "  <thead>\n",
       "    <tr style=\"text-align: right;\">\n",
       "      <th></th>\n",
       "      <th>Date</th>\n",
       "      <th>Temperature</th>\n",
       "    </tr>\n",
       "  </thead>\n",
       "  <tbody>\n",
       "    <tr>\n",
       "      <th>0</th>\n",
       "      <td>2021-08-21 11:34:50.711019</td>\n",
       "      <td>18.916893</td>\n",
       "    </tr>\n",
       "    <tr>\n",
       "      <th>1</th>\n",
       "      <td>2021-08-22 11:34:50.711019</td>\n",
       "      <td>20.689565</td>\n",
       "    </tr>\n",
       "    <tr>\n",
       "      <th>2</th>\n",
       "      <td>2021-08-23 11:34:50.711019</td>\n",
       "      <td>23.393948</td>\n",
       "    </tr>\n",
       "    <tr>\n",
       "      <th>3</th>\n",
       "      <td>2021-08-24 11:34:50.711019</td>\n",
       "      <td>25.135592</td>\n",
       "    </tr>\n",
       "    <tr>\n",
       "      <th>4</th>\n",
       "      <td>2021-08-25 11:34:50.711019</td>\n",
       "      <td>23.200781</td>\n",
       "    </tr>\n",
       "    <tr>\n",
       "      <th>...</th>\n",
       "      <td>...</td>\n",
       "      <td>...</td>\n",
       "    </tr>\n",
       "    <tr>\n",
       "      <th>127</th>\n",
       "      <td>2021-12-26 11:34:50.711019</td>\n",
       "      <td>18.898051</td>\n",
       "    </tr>\n",
       "    <tr>\n",
       "      <th>128</th>\n",
       "      <td>2021-12-27 11:34:50.711019</td>\n",
       "      <td>19.138006</td>\n",
       "    </tr>\n",
       "    <tr>\n",
       "      <th>129</th>\n",
       "      <td>2021-12-28 11:34:50.711019</td>\n",
       "      <td>25.747900</td>\n",
       "    </tr>\n",
       "    <tr>\n",
       "      <th>130</th>\n",
       "      <td>2021-12-29 11:34:50.711019</td>\n",
       "      <td>23.636503</td>\n",
       "    </tr>\n",
       "    <tr>\n",
       "      <th>131</th>\n",
       "      <td>2021-12-30 11:34:50.711019</td>\n",
       "      <td>23.045454</td>\n",
       "    </tr>\n",
       "  </tbody>\n",
       "</table>\n",
       "<p>132 rows × 2 columns</p>\n",
       "</div>"
      ],
      "text/plain": [
       "                           Date  Temperature\n",
       "0    2021-08-21 11:34:50.711019    18.916893\n",
       "1    2021-08-22 11:34:50.711019    20.689565\n",
       "2    2021-08-23 11:34:50.711019    23.393948\n",
       "3    2021-08-24 11:34:50.711019    25.135592\n",
       "4    2021-08-25 11:34:50.711019    23.200781\n",
       "..                          ...          ...\n",
       "127  2021-12-26 11:34:50.711019    18.898051\n",
       "128  2021-12-27 11:34:50.711019    19.138006\n",
       "129  2021-12-28 11:34:50.711019    25.747900\n",
       "130  2021-12-29 11:34:50.711019    23.636503\n",
       "131  2021-12-30 11:34:50.711019    23.045454\n",
       "\n",
       "[132 rows x 2 columns]"
      ]
     },
     "execution_count": 33,
     "metadata": {},
     "output_type": "execute_result"
    }
   ],
   "source": [
    "#filtros\n",
    "\n",
    "query = '''\n",
    "SELECT Timestamp as Date, Temperature\n",
    "FROM Temperature\n",
    "WHERE Date <= \"2021-12-31\"\n",
    "'''\n",
    "\n",
    "df = pd.read_sql_query(query, con)\n",
    "df"
   ]
  },
  {
   "cell_type": "code",
   "execution_count": 34,
   "metadata": {},
   "outputs": [
    {
     "data": {
      "text/html": [
       "<div>\n",
       "<style scoped>\n",
       "    .dataframe tbody tr th:only-of-type {\n",
       "        vertical-align: middle;\n",
       "    }\n",
       "\n",
       "    .dataframe tbody tr th {\n",
       "        vertical-align: top;\n",
       "    }\n",
       "\n",
       "    .dataframe thead th {\n",
       "        text-align: right;\n",
       "    }\n",
       "</style>\n",
       "<table border=\"1\" class=\"dataframe\">\n",
       "  <thead>\n",
       "    <tr style=\"text-align: right;\">\n",
       "      <th></th>\n",
       "      <th>Date</th>\n",
       "      <th>Temperature</th>\n",
       "    </tr>\n",
       "  </thead>\n",
       "  <tbody>\n",
       "    <tr>\n",
       "      <th>0</th>\n",
       "      <td>2021-08-21 11:34:50.711019</td>\n",
       "      <td>18.916893</td>\n",
       "    </tr>\n",
       "    <tr>\n",
       "      <th>1</th>\n",
       "      <td>2021-08-22 11:34:50.711019</td>\n",
       "      <td>20.689565</td>\n",
       "    </tr>\n",
       "    <tr>\n",
       "      <th>2</th>\n",
       "      <td>2021-08-23 11:34:50.711019</td>\n",
       "      <td>23.393948</td>\n",
       "    </tr>\n",
       "    <tr>\n",
       "      <th>3</th>\n",
       "      <td>2021-08-24 11:34:50.711019</td>\n",
       "      <td>25.135592</td>\n",
       "    </tr>\n",
       "    <tr>\n",
       "      <th>4</th>\n",
       "      <td>2021-08-25 11:34:50.711019</td>\n",
       "      <td>23.200781</td>\n",
       "    </tr>\n",
       "    <tr>\n",
       "      <th>...</th>\n",
       "      <td>...</td>\n",
       "      <td>...</td>\n",
       "    </tr>\n",
       "    <tr>\n",
       "      <th>128</th>\n",
       "      <td>2021-12-27 11:34:50.711019</td>\n",
       "      <td>19.138006</td>\n",
       "    </tr>\n",
       "    <tr>\n",
       "      <th>129</th>\n",
       "      <td>2021-12-28 11:34:50.711019</td>\n",
       "      <td>25.747900</td>\n",
       "    </tr>\n",
       "    <tr>\n",
       "      <th>130</th>\n",
       "      <td>2021-12-29 11:34:50.711019</td>\n",
       "      <td>23.636503</td>\n",
       "    </tr>\n",
       "    <tr>\n",
       "      <th>131</th>\n",
       "      <td>2021-12-30 11:34:50.711019</td>\n",
       "      <td>23.045454</td>\n",
       "    </tr>\n",
       "    <tr>\n",
       "      <th>132</th>\n",
       "      <td>2021-12-31 11:34:50.711019</td>\n",
       "      <td>18.565008</td>\n",
       "    </tr>\n",
       "  </tbody>\n",
       "</table>\n",
       "<p>133 rows × 2 columns</p>\n",
       "</div>"
      ],
      "text/plain": [
       "                           Date  Temperature\n",
       "0    2021-08-21 11:34:50.711019    18.916893\n",
       "1    2021-08-22 11:34:50.711019    20.689565\n",
       "2    2021-08-23 11:34:50.711019    23.393948\n",
       "3    2021-08-24 11:34:50.711019    25.135592\n",
       "4    2021-08-25 11:34:50.711019    23.200781\n",
       "..                          ...          ...\n",
       "128  2021-12-27 11:34:50.711019    19.138006\n",
       "129  2021-12-28 11:34:50.711019    25.747900\n",
       "130  2021-12-29 11:34:50.711019    23.636503\n",
       "131  2021-12-30 11:34:50.711019    23.045454\n",
       "132  2021-12-31 11:34:50.711019    18.565008\n",
       "\n",
       "[133 rows x 2 columns]"
      ]
     },
     "execution_count": 34,
     "metadata": {},
     "output_type": "execute_result"
    }
   ],
   "source": [
    "#consultar dados de um ano em específico\n",
    "\n",
    "query = '''\n",
    "SELECT Timestamp AS Date, Temperature\n",
    "FROM Temperature\n",
    "WHERE CAST(strftime(\"%Y\", Date) AS INTEGER) = 2021\n",
    "'''\n",
    "\n",
    "df = pd.read_sql_query(query, con)\n",
    "df"
   ]
  },
  {
   "cell_type": "code",
   "execution_count": 36,
   "metadata": {},
   "outputs": [
    {
     "data": {
      "text/html": [
       "<div>\n",
       "<style scoped>\n",
       "    .dataframe tbody tr th:only-of-type {\n",
       "        vertical-align: middle;\n",
       "    }\n",
       "\n",
       "    .dataframe tbody tr th {\n",
       "        vertical-align: top;\n",
       "    }\n",
       "\n",
       "    .dataframe thead th {\n",
       "        text-align: right;\n",
       "    }\n",
       "</style>\n",
       "<table border=\"1\" class=\"dataframe\">\n",
       "  <thead>\n",
       "    <tr style=\"text-align: right;\">\n",
       "      <th></th>\n",
       "      <th>Year</th>\n",
       "      <th>mean_temperature</th>\n",
       "      <th>max_temperature</th>\n",
       "      <th>min_temperature</th>\n",
       "    </tr>\n",
       "  </thead>\n",
       "  <tbody>\n",
       "    <tr>\n",
       "      <th>0</th>\n",
       "      <td>2021</td>\n",
       "      <td>21.972199</td>\n",
       "      <td>25.998496</td>\n",
       "      <td>18.008933</td>\n",
       "    </tr>\n",
       "    <tr>\n",
       "      <th>1</th>\n",
       "      <td>2022</td>\n",
       "      <td>21.905698</td>\n",
       "      <td>25.985695</td>\n",
       "      <td>18.041178</td>\n",
       "    </tr>\n",
       "    <tr>\n",
       "      <th>2</th>\n",
       "      <td>2023</td>\n",
       "      <td>21.430044</td>\n",
       "      <td>22.810584</td>\n",
       "      <td>20.049503</td>\n",
       "    </tr>\n",
       "  </tbody>\n",
       "</table>\n",
       "</div>"
      ],
      "text/plain": [
       "   Year  mean_temperature  max_temperature  min_temperature\n",
       "0  2021         21.972199        25.998496        18.008933\n",
       "1  2022         21.905698        25.985695        18.041178\n",
       "2  2023         21.430044        22.810584        20.049503"
      ]
     },
     "execution_count": 36,
     "metadata": {},
     "output_type": "execute_result"
    }
   ],
   "source": [
    "#Agregar anualmente\n",
    "\n",
    "query = '''\n",
    "SELECT strftime(\"%Y\", Timestamp) AS Year,\n",
    "    AVG(Temperature) AS mean_temperature,\n",
    "    MAX(Temperature) AS max_temperature,\n",
    "    MIN(Temperature) AS min_temperature\n",
    "FROM Temperature\n",
    "GROUP BY Year\n",
    "'''\n",
    "\n",
    "df = pd.read_sql_query(query, con)\n",
    "df"
   ]
  },
  {
   "cell_type": "code",
   "execution_count": 41,
   "metadata": {},
   "outputs": [
    {
     "data": {
      "text/html": [
       "<div>\n",
       "<style scoped>\n",
       "    .dataframe tbody tr th:only-of-type {\n",
       "        vertical-align: middle;\n",
       "    }\n",
       "\n",
       "    .dataframe tbody tr th {\n",
       "        vertical-align: top;\n",
       "    }\n",
       "\n",
       "    .dataframe thead th {\n",
       "        text-align: right;\n",
       "    }\n",
       "</style>\n",
       "<table border=\"1\" class=\"dataframe\">\n",
       "  <thead>\n",
       "    <tr style=\"text-align: right;\">\n",
       "      <th></th>\n",
       "      <th>Temperature</th>\n",
       "    </tr>\n",
       "    <tr>\n",
       "      <th>date</th>\n",
       "      <th></th>\n",
       "    </tr>\n",
       "  </thead>\n",
       "  <tbody>\n",
       "    <tr>\n",
       "      <th>2021-08-21 11:34:50</th>\n",
       "      <td>18.916893</td>\n",
       "    </tr>\n",
       "    <tr>\n",
       "      <th>2021-08-22 11:34:50</th>\n",
       "      <td>20.689565</td>\n",
       "    </tr>\n",
       "    <tr>\n",
       "      <th>2021-08-23 11:34:50</th>\n",
       "      <td>23.393948</td>\n",
       "    </tr>\n",
       "    <tr>\n",
       "      <th>2021-08-24 11:34:50</th>\n",
       "      <td>25.135592</td>\n",
       "    </tr>\n",
       "    <tr>\n",
       "      <th>2021-08-25 11:34:50</th>\n",
       "      <td>23.200781</td>\n",
       "    </tr>\n",
       "  </tbody>\n",
       "</table>\n",
       "</div>"
      ],
      "text/plain": [
       "                     Temperature\n",
       "date                            \n",
       "2021-08-21 11:34:50    18.916893\n",
       "2021-08-22 11:34:50    20.689565\n",
       "2021-08-23 11:34:50    23.393948\n",
       "2021-08-24 11:34:50    25.135592\n",
       "2021-08-25 11:34:50    23.200781"
      ]
     },
     "execution_count": 41,
     "metadata": {},
     "output_type": "execute_result"
    }
   ],
   "source": [
    "#visualizar os dados\n",
    "\n",
    "query = 'SELECT DATETIME(Timestamp) as date, Temperature FROM Temperature'\n",
    "\n",
    "ts = pd.read_sql_query(query, con)\n",
    "ts.set_index('date', inplace=True)\n",
    "ts.index = pd.to_datetime(ts.index)\n",
    "ts.head()\n"
   ]
  },
  {
   "cell_type": "code",
   "execution_count": 44,
   "metadata": {},
   "outputs": [
    {
     "data": {
      "text/plain": [
       "<AxesSubplot: xlabel='date'>"
      ]
     },
     "execution_count": 44,
     "metadata": {},
     "output_type": "execute_result"
    },
    {
     "data": {
      "image/png": "[encoded data removed]",
      "text/plain": [
       "<Figure size 1080x432 with 1 Axes>"
      ]
     },
     "metadata": {
      "needs_background": "light"
     },
     "output_type": "display_data"
    }
   ],
   "source": [
    "ts.plot(figsize=(15, 6))"
   ]
  },
  {
   "cell_type": "code",
   "execution_count": 45,
   "metadata": {},
   "outputs": [],
   "source": [
    "con.close()"
   ]
  }
 ],
 "metadata": {
  "kernelspec": {
   "display_name": "curso-kit-eng-dados",
   "language": "python",
   "name": "python3"
  },
  "language_info": {
   "codemirror_mode": {
    "name": "ipython",
    "version": 3
   },
   "file_extension": ".py",
   "mimetype": "text/x-python",
   "name": "python",
   "nbconvert_exporter": "python",
   "pygments_lexer": "ipython3",
   "version": "3.10.8 (main, Nov 24 2022, 14:13:03) [GCC 11.2.0]"
  },
  "orig_nbformat": 4,
  "vscode": {
   "interpreter": {
    "hash": "9488e8ec80d82c89b5cd9d9b19a41b7fd9b9f5b8a7f3d0129a259c8c66cf4d3b"
   }
  }
 },
 "nbformat": 4,
 "nbformat_minor": 2
}
