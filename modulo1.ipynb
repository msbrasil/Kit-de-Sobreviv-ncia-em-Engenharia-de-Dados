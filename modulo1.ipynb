{
 "cells": [
  {
   "cell_type": "markdown",
   "metadata": {},
   "source": [
    "pacotes"
   ]
  },
  {
   "cell_type": "code",
   "execution_count": 73,
   "metadata": {},
   "outputs": [],
   "source": [
    "import sqlite3 # biblioteca para trabalhar com banco de dados em sql (mais leve)\n",
    "import pandas as pd\n",
    "import csv"
   ]
  },
  {
   "attachments": {},
   "cell_type": "markdown",
   "metadata": {},
   "source": [
    "Criando conexão com o banco SQLite"
   ]
  },
  {
   "cell_type": "code",
   "execution_count": 74,
   "metadata": {},
   "outputs": [
    {
     "name": "stdout",
     "output_type": "stream",
     "text": [
      "Conectado ao banco!\n"
     ]
    }
   ],
   "source": [
    "con = sqlite3.connect('primeiro_banco') \n",
    "cur = con.cursor() # salva comandos na memória\n",
    "print('Conectado ao banco!')"
   ]
  },
  {
   "cell_type": "markdown",
   "metadata": {},
   "source": [
    "Criando tabela teste (caso não exista)"
   ]
  },
  {
   "cell_type": "code",
   "execution_count": 75,
   "metadata": {},
   "outputs": [],
   "source": [
    "cur.execute(\"\"\"\n",
    "    CREATE TABLE IF NOT EXISTS Teste (\n",
    "        id integer,\n",
    "        name text\n",
    "    )\n",
    "\"\"\"\n",
    ")\n",
    "\n",
    "con.commit()"
   ]
  },
  {
   "cell_type": "markdown",
   "metadata": {},
   "source": [
    "Inserindo valores"
   ]
  },
  {
   "cell_type": "code",
   "execution_count": 76,
   "metadata": {},
   "outputs": [],
   "source": [
    "cur.execute(\n",
    "    '''\n",
    "    INSERT INTO Teste VALUES (\n",
    "        1,\n",
    "        'João'\n",
    "    );\n",
    "    '''\n",
    ")\n",
    "\n",
    "con.commit()"
   ]
  },
  {
   "cell_type": "markdown",
   "metadata": {},
   "source": [
    "Consultar valores"
   ]
  },
  {
   "cell_type": "code",
   "execution_count": 77,
   "metadata": {},
   "outputs": [
    {
     "data": {
      "text/html": [
       "<div>\n",
       "<style scoped>\n",
       "    .dataframe tbody tr th:only-of-type {\n",
       "        vertical-align: middle;\n",
       "    }\n",
       "\n",
       "    .dataframe tbody tr th {\n",
       "        vertical-align: top;\n",
       "    }\n",
       "\n",
       "    .dataframe thead th {\n",
       "        text-align: right;\n",
       "    }\n",
       "</style>\n",
       "<table border=\"1\" class=\"dataframe\">\n",
       "  <thead>\n",
       "    <tr style=\"text-align: right;\">\n",
       "      <th></th>\n",
       "      <th>id</th>\n",
       "      <th>name</th>\n",
       "    </tr>\n",
       "  </thead>\n",
       "  <tbody>\n",
       "    <tr>\n",
       "      <th>0</th>\n",
       "      <td>1</td>\n",
       "      <td>João</td>\n",
       "    </tr>\n",
       "  </tbody>\n",
       "</table>\n",
       "</div>"
      ],
      "text/plain": [
       "   id  name\n",
       "0   1  João"
      ]
     },
     "execution_count": 77,
     "metadata": {},
     "output_type": "execute_result"
    }
   ],
   "source": [
    "query = '''\n",
    "    SELECT * FROM Teste\n",
    "'''\n",
    "\n",
    "df = pd.read_sql_query(query, con) #consulta (query) e conexão com o banco (con)\n",
    "df.head()"
   ]
  },
  {
   "cell_type": "markdown",
   "metadata": {},
   "source": [
    "Atualizar valores"
   ]
  },
  {
   "cell_type": "code",
   "execution_count": 78,
   "metadata": {},
   "outputs": [
    {
     "data": {
      "text/html": [
       "<div>\n",
       "<style scoped>\n",
       "    .dataframe tbody tr th:only-of-type {\n",
       "        vertical-align: middle;\n",
       "    }\n",
       "\n",
       "    .dataframe tbody tr th {\n",
       "        vertical-align: top;\n",
       "    }\n",
       "\n",
       "    .dataframe thead th {\n",
       "        text-align: right;\n",
       "    }\n",
       "</style>\n",
       "<table border=\"1\" class=\"dataframe\">\n",
       "  <thead>\n",
       "    <tr style=\"text-align: right;\">\n",
       "      <th></th>\n",
       "      <th>id</th>\n",
       "      <th>name</th>\n",
       "    </tr>\n",
       "  </thead>\n",
       "  <tbody>\n",
       "    <tr>\n",
       "      <th>0</th>\n",
       "      <td>1</td>\n",
       "      <td>Maria</td>\n",
       "    </tr>\n",
       "  </tbody>\n",
       "</table>\n",
       "</div>"
      ],
      "text/plain": [
       "   id   name\n",
       "0   1  Maria"
      ]
     },
     "execution_count": 78,
     "metadata": {},
     "output_type": "execute_result"
    }
   ],
   "source": [
    "cur.execute(\n",
    "    '''\n",
    "    UPDATE Teste SET name = 'Maria' WHERE id = 1;\n",
    "    '''\n",
    ")\n",
    "\n",
    "#como eu criei 3 vezes a linha id = 1 e name = 'João', ele atualizou todas as linhas\n",
    "\n",
    "con.commit \n",
    "\n",
    "df = pd.read_sql_query(query, con) \n",
    "df.head()"
   ]
  },
  {
   "cell_type": "markdown",
   "metadata": {},
   "source": [
    "Deletar valores"
   ]
  },
  {
   "cell_type": "code",
   "execution_count": 79,
   "metadata": {},
   "outputs": [
    {
     "data": {
      "text/html": [
       "<div>\n",
       "<style scoped>\n",
       "    .dataframe tbody tr th:only-of-type {\n",
       "        vertical-align: middle;\n",
       "    }\n",
       "\n",
       "    .dataframe tbody tr th {\n",
       "        vertical-align: top;\n",
       "    }\n",
       "\n",
       "    .dataframe thead th {\n",
       "        text-align: right;\n",
       "    }\n",
       "</style>\n",
       "<table border=\"1\" class=\"dataframe\">\n",
       "  <thead>\n",
       "    <tr style=\"text-align: right;\">\n",
       "      <th></th>\n",
       "      <th>id</th>\n",
       "      <th>name</th>\n",
       "    </tr>\n",
       "  </thead>\n",
       "  <tbody>\n",
       "  </tbody>\n",
       "</table>\n",
       "</div>"
      ],
      "text/plain": [
       "Empty DataFrame\n",
       "Columns: [id, name]\n",
       "Index: []"
      ]
     },
     "execution_count": 79,
     "metadata": {},
     "output_type": "execute_result"
    }
   ],
   "source": [
    "cur.execute(\n",
    "    '''\n",
    "    DELETE FROM Teste WHERE id = 1;\n",
    "    '''\n",
    ")\n",
    "\n",
    "con.commit\n",
    "#deletou tudo =) porque todos tinham a id = 1\n",
    "df = pd.read_sql_query(query, con)\n",
    "df.head()"
   ]
  },
  {
   "cell_type": "markdown",
   "metadata": {},
   "source": [
    "Criar uma nova tabela SQL a partir dos dados presente em um arquivo CSV"
   ]
  },
  {
   "attachments": {},
   "cell_type": "markdown",
   "metadata": {},
   "source": [
    "Primeiramente, criar a tabela no banco com o nome das colunas e o tipo de dado"
   ]
  },
  {
   "cell_type": "code",
   "execution_count": 80,
   "metadata": {},
   "outputs": [],
   "source": [
    "cur.execute(\n",
    "'''\n",
    "    CREATE TABLE IF NOT EXISTS Customers (\n",
    "        CustomerKey integer,\n",
    "        FirstName text,\n",
    "        LastName text,\n",
    "        BirthDate date,\n",
    "        MaritalStatus text,\n",
    "        Gender text,\n",
    "        EmailAddress text,\n",
    "        AnnualIncome float,\n",
    "        TotalChildren integer,\n",
    "        EducationLevel text,\n",
    "        Occupation text,\n",
    "        HomeOwner text\n",
    "    )\n",
    "'''\n",
    ")\n",
    "con.commit()"
   ]
  },
  {
   "cell_type": "markdown",
   "metadata": {},
   "source": [
    "Agora, alimentar a base com o arquivo CSV através de um looping:"
   ]
  },
  {
   "cell_type": "code",
   "execution_count": 81,
   "metadata": {},
   "outputs": [
    {
     "data": {
      "text/plain": [
       "<sqlite3.Cursor at 0x7fbb736f5b40>"
      ]
     },
     "execution_count": 81,
     "metadata": {},
     "output_type": "execute_result"
    }
   ],
   "source": [
    "with open('AdventureWorks_Customers.csv', 'r', encoding='latin-1') as cst:\n",
    "    custormer = csv.DictReader(cst) #considera a primeira linha como cabeçalho e virgula como separador\n",
    "    to_db = [\n",
    "        (i['CustomerKey'], \n",
    "        i['FirstName'], \n",
    "        i['LastName'], \n",
    "        i['BirthDate'], \n",
    "        i['MaritalStatus'], \n",
    "        i['Gender'], \n",
    "        i['EmailAddress'], \n",
    "        i['AnnualIncome'], \n",
    "        i['TotalChildren'], \n",
    "        i['EducationLevel'], \n",
    "        i['Occupation'], \n",
    "        i['HomeOwner']) for i in custormer]\n",
    "\n",
    "cur.executemany(\"INSERT INTO Customers (CUstomerKey, FirstName, LastName, BirthDate, MaritalStatus, Gender, EmailAddress, AnnualIncome, TotalChildren, EducationLevel, Occupation, HomeOwner) VALUES (?, ?, ?, ?, ?, ?, ?, ?, ?, ?, ?, ?);\", to_db)"
   ]
  },
  {
   "attachments": {},
   "cell_type": "markdown",
   "metadata": {},
   "source": [
    "Consultar a tabela criada através do pandas"
   ]
  },
  {
   "cell_type": "code",
   "execution_count": 82,
   "metadata": {},
   "outputs": [
    {
     "data": {
      "text/html": [
       "<div>\n",
       "<style scoped>\n",
       "    .dataframe tbody tr th:only-of-type {\n",
       "        vertical-align: middle;\n",
       "    }\n",
       "\n",
       "    .dataframe tbody tr th {\n",
       "        vertical-align: top;\n",
       "    }\n",
       "\n",
       "    .dataframe thead th {\n",
       "        text-align: right;\n",
       "    }\n",
       "</style>\n",
       "<table border=\"1\" class=\"dataframe\">\n",
       "  <thead>\n",
       "    <tr style=\"text-align: right;\">\n",
       "      <th></th>\n",
       "      <th>CustomerKey</th>\n",
       "      <th>FirstName</th>\n",
       "      <th>LastName</th>\n",
       "      <th>BirthDate</th>\n",
       "      <th>MaritalStatus</th>\n",
       "      <th>Gender</th>\n",
       "      <th>EmailAddress</th>\n",
       "      <th>AnnualIncome</th>\n",
       "      <th>TotalChildren</th>\n",
       "      <th>EducationLevel</th>\n",
       "      <th>Occupation</th>\n",
       "      <th>HomeOwner</th>\n",
       "    </tr>\n",
       "  </thead>\n",
       "  <tbody>\n",
       "    <tr>\n",
       "      <th>0</th>\n",
       "      <td>11000</td>\n",
       "      <td>JON</td>\n",
       "      <td>YANG</td>\n",
       "      <td>4/8/1966</td>\n",
       "      <td>M</td>\n",
       "      <td>M</td>\n",
       "      <td>jon24@adventure-works.com</td>\n",
       "      <td>$90,000</td>\n",
       "      <td>2</td>\n",
       "      <td>Bachelors</td>\n",
       "      <td>Professional</td>\n",
       "      <td>Y</td>\n",
       "    </tr>\n",
       "    <tr>\n",
       "      <th>1</th>\n",
       "      <td>11002</td>\n",
       "      <td>RUBEN</td>\n",
       "      <td>TORRES</td>\n",
       "      <td>8/12/1965</td>\n",
       "      <td>M</td>\n",
       "      <td>M</td>\n",
       "      <td>ruben35@adventure-works.com</td>\n",
       "      <td>$60,000</td>\n",
       "      <td>3</td>\n",
       "      <td>Bachelors</td>\n",
       "      <td>Professional</td>\n",
       "      <td>Y</td>\n",
       "    </tr>\n",
       "    <tr>\n",
       "      <th>2</th>\n",
       "      <td>11004</td>\n",
       "      <td>ELIZABETH</td>\n",
       "      <td>JOHNSON</td>\n",
       "      <td>8/8/1968</td>\n",
       "      <td>S</td>\n",
       "      <td>F</td>\n",
       "      <td>elizabeth5@adventure-works.com</td>\n",
       "      <td>$80,000</td>\n",
       "      <td>5</td>\n",
       "      <td>Bachelors</td>\n",
       "      <td>Professional</td>\n",
       "      <td>Y</td>\n",
       "    </tr>\n",
       "    <tr>\n",
       "      <th>3</th>\n",
       "      <td>11005</td>\n",
       "      <td>JULIO</td>\n",
       "      <td>RUIZ</td>\n",
       "      <td>8/5/1965</td>\n",
       "      <td>S</td>\n",
       "      <td>M</td>\n",
       "      <td>julio1@adventure-works.com</td>\n",
       "      <td>$70,000</td>\n",
       "      <td>0</td>\n",
       "      <td>Bachelors</td>\n",
       "      <td>Professional</td>\n",
       "      <td>Y</td>\n",
       "    </tr>\n",
       "    <tr>\n",
       "      <th>4</th>\n",
       "      <td>11007</td>\n",
       "      <td>MARCO</td>\n",
       "      <td>MEHTA</td>\n",
       "      <td>5/9/1964</td>\n",
       "      <td>M</td>\n",
       "      <td>M</td>\n",
       "      <td>marco14@adventure-works.com</td>\n",
       "      <td>$60,000</td>\n",
       "      <td>3</td>\n",
       "      <td>Bachelors</td>\n",
       "      <td>Professional</td>\n",
       "      <td>Y</td>\n",
       "    </tr>\n",
       "  </tbody>\n",
       "</table>\n",
       "</div>"
      ],
      "text/plain": [
       "   CustomerKey  FirstName LastName  BirthDate MaritalStatus Gender  \\\n",
       "0        11000        JON     YANG   4/8/1966             M      M   \n",
       "1        11002      RUBEN   TORRES  8/12/1965             M      M   \n",
       "2        11004  ELIZABETH  JOHNSON   8/8/1968             S      F   \n",
       "3        11005      JULIO     RUIZ   8/5/1965             S      M   \n",
       "4        11007      MARCO    MEHTA   5/9/1964             M      M   \n",
       "\n",
       "                     EmailAddress AnnualIncome  TotalChildren EducationLevel  \\\n",
       "0       jon24@adventure-works.com     $90,000               2      Bachelors   \n",
       "1     ruben35@adventure-works.com     $60,000               3      Bachelors   \n",
       "2  elizabeth5@adventure-works.com     $80,000               5      Bachelors   \n",
       "3      julio1@adventure-works.com     $70,000               0      Bachelors   \n",
       "4     marco14@adventure-works.com     $60,000               3      Bachelors   \n",
       "\n",
       "     Occupation HomeOwner  \n",
       "0  Professional         Y  \n",
       "1  Professional         Y  \n",
       "2  Professional         Y  \n",
       "3  Professional         Y  \n",
       "4  Professional         Y  "
      ]
     },
     "execution_count": 82,
     "metadata": {},
     "output_type": "execute_result"
    }
   ],
   "source": [
    "query = '''\n",
    "    SELECT * FROM Customers WHERE HomeOwner = 'Y'\n",
    "'''\n",
    "\n",
    "\n",
    "df = pd.read_sql_query(query, con)\n",
    "df.head()"
   ]
  },
  {
   "cell_type": "markdown",
   "metadata": {},
   "source": [
    "Consulta através do SQL"
   ]
  },
  {
   "cell_type": "code",
   "execution_count": 83,
   "metadata": {},
   "outputs": [
    {
     "name": "stdout",
     "output_type": "stream",
     "text": [
      "(11000, 'JON', 'YANG', '4/8/1966', 'M', 'M', 'jon24@adventure-works.com', '$90,000 ', 2, 'Bachelors', 'Professional', 'Y')\n",
      "(11002, 'RUBEN', 'TORRES', '8/12/1965', 'M', 'M', 'ruben35@adventure-works.com', '$60,000 ', 3, 'Bachelors', 'Professional', 'Y')\n",
      "(11004, 'ELIZABETH', 'JOHNSON', '8/8/1968', 'S', 'F', 'elizabeth5@adventure-works.com', '$80,000 ', 5, 'Bachelors', 'Professional', 'Y')\n",
      "(11005, 'JULIO', 'RUIZ', '8/5/1965', 'S', 'M', 'julio1@adventure-works.com', '$70,000 ', 0, 'Bachelors', 'Professional', 'Y')\n",
      "(11007, 'MARCO', 'MEHTA', '5/9/1964', 'M', 'M', 'marco14@adventure-works.com', '$60,000 ', 3, 'Bachelors', 'Professional', 'Y')\n"
     ]
    }
   ],
   "source": [
    "set = con.execute('''\n",
    "    SELECT * \n",
    "    FROM Customers \n",
    "    WHERE HomeOwner = 'Y' \n",
    "    LIMIT 5\n",
    "''')\n",
    "\n",
    "for i in set:\n",
    "    print(i)"
   ]
  },
  {
   "cell_type": "markdown",
   "metadata": {},
   "source": [
    "Fechar conexão"
   ]
  },
  {
   "cell_type": "code",
   "execution_count": 84,
   "metadata": {},
   "outputs": [],
   "source": [
    "con.close()"
   ]
  }
 ],
 "metadata": {
  "kernelspec": {
   "display_name": "curso-kit-eng-dados",
   "language": "python",
   "name": "python3"
  },
  "language_info": {
   "codemirror_mode": {
    "name": "ipython",
    "version": 3
   },
   "file_extension": ".py",
   "mimetype": "text/x-python",
   "name": "python",
   "nbconvert_exporter": "python",
   "pygments_lexer": "ipython3",
   "version": "3.10.8"
  },
  "orig_nbformat": 4,
  "vscode": {
   "interpreter": {
    "hash": "9488e8ec80d82c89b5cd9d9b19a41b7fd9b9f5b8a7f3d0129a259c8c66cf4d3b"
   }
  }
 },
 "nbformat": 4,
 "nbformat_minor": 2
}
